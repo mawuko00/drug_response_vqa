{
 "cells": [
  {
   "cell_type": "code",
   "id": "initial_id",
   "metadata": {
    "collapsed": true,
    "ExecuteTime": {
     "end_time": "2024-12-12T16:38:13.441257Z",
     "start_time": "2024-12-12T16:37:26.103756Z"
    }
   },
   "source": "!pip install psycopg2 pandas sqlalchemy\n",
   "outputs": [
    {
     "name": "stdout",
     "output_type": "stream",
     "text": [
      "Collecting psycopg2\n",
      "  Downloading psycopg2-2.9.10-cp310-cp310-win_amd64.whl (1.2 MB)\n",
      "     ---------------------------------------- 0.0/1.2 MB ? eta -:--:--\n",
      "     ---------------------- ----------------- 0.7/1.2 MB 4.6 MB/s eta 0:00:01\n",
      "     ----------------------------- ---------- 0.9/1.2 MB 4.5 MB/s eta 0:00:01\n",
      "     ---------------------------------------- 1.2/1.2 MB 4.6 MB/s eta 0:00:00\n",
      "Collecting pandas\n",
      "  Downloading pandas-2.2.3-cp310-cp310-win_amd64.whl (11.6 MB)\n",
      "     ---------------------------------------- 0.0/11.6 MB ? eta -:--:--\n",
      "     - -------------------------------------- 0.5/11.6 MB 14.5 MB/s eta 0:00:01\n",
      "     -- ------------------------------------- 0.8/11.6 MB 5.0 MB/s eta 0:00:03\n",
      "     --- ------------------------------------ 1.1/11.6 MB 4.2 MB/s eta 0:00:03\n",
      "     --- ------------------------------------ 1.1/11.6 MB 4.2 MB/s eta 0:00:03\n",
      "     --- ------------------------------------ 1.1/11.6 MB 4.2 MB/s eta 0:00:03\n",
      "     --- ------------------------------------ 1.1/11.6 MB 4.2 MB/s eta 0:00:03\n",
      "     --- ------------------------------------ 1.1/11.6 MB 4.2 MB/s eta 0:00:03\n",
      "     --- ------------------------------------ 1.1/11.6 MB 4.2 MB/s eta 0:00:03\n",
      "     ----- ---------------------------------- 1.5/11.6 MB 2.6 MB/s eta 0:00:04\n",
      "     ------ --------------------------------- 2.0/11.6 MB 3.2 MB/s eta 0:00:03\n",
      "     -------- ------------------------------- 2.4/11.6 MB 3.6 MB/s eta 0:00:03\n",
      "     ---------- ----------------------------- 3.1/11.6 MB 4.1 MB/s eta 0:00:03\n",
      "     --------------- ------------------------ 4.5/11.6 MB 4.4 MB/s eta 0:00:02\n",
      "     ---------------- ----------------------- 4.8/11.6 MB 4.6 MB/s eta 0:00:02\n",
      "     ----------------- ---------------------- 5.1/11.6 MB 4.7 MB/s eta 0:00:02\n",
      "     ------------------- -------------------- 5.5/11.6 MB 4.8 MB/s eta 0:00:02\n",
      "     --------------------- ------------------ 6.2/11.6 MB 5.1 MB/s eta 0:00:02\n",
      "     ---------------------- ----------------- 6.5/11.6 MB 5.2 MB/s eta 0:00:01\n",
      "     ----------------------- ---------------- 6.8/11.6 MB 5.3 MB/s eta 0:00:01\n",
      "     ----------------------- ---------------- 6.8/11.6 MB 5.3 MB/s eta 0:00:01\n",
      "     ------------------------ --------------- 7.1/11.6 MB 5.1 MB/s eta 0:00:01\n",
      "     ------------------------- -------------- 7.5/11.6 MB 5.2 MB/s eta 0:00:01\n",
      "     ----------------------------- ---------- 8.4/11.6 MB 4.8 MB/s eta 0:00:01\n",
      "     ------------------------------ --------- 8.9/11.6 MB 5.0 MB/s eta 0:00:01\n",
      "     -------------------------------- ------- 9.3/11.6 MB 5.1 MB/s eta 0:00:01\n",
      "     --------------------------------- ------ 9.7/11.6 MB 5.2 MB/s eta 0:00:01\n",
      "     ---------------------------------- ----- 10.0/11.6 MB 5.2 MB/s eta 0:00:01\n",
      "     ----------------------------------- ---- 10.4/11.6 MB 5.2 MB/s eta 0:00:01\n",
      "     ------------------------------------- -- 11.0/11.6 MB 5.4 MB/s eta 0:00:01\n",
      "     ---------------------------------------  11.4/11.6 MB 6.7 MB/s eta 0:00:01\n",
      "     ---------------------------------------  11.6/11.6 MB 6.4 MB/s eta 0:00:01\n",
      "     ---------------------------------------  11.6/11.6 MB 6.4 MB/s eta 0:00:01\n",
      "     ---------------------------------------  11.6/11.6 MB 6.4 MB/s eta 0:00:01\n",
      "     ---------------------------------------  11.6/11.6 MB 6.4 MB/s eta 0:00:01\n",
      "     ---------------------------------------- 11.6/11.6 MB 5.1 MB/s eta 0:00:00\n",
      "Collecting sqlalchemy\n",
      "  Downloading SQLAlchemy-2.0.36-cp310-cp310-win_amd64.whl (2.1 MB)\n",
      "     ---------------------------------------- 0.0/2.1 MB ? eta -:--:--\n",
      "     ----------- ---------------------------- 0.6/2.1 MB 18.2 MB/s eta 0:00:01\n",
      "     --------------------- ------------------ 1.1/2.1 MB 14.1 MB/s eta 0:00:01\n",
      "     -------------------------------- ------- 1.7/2.1 MB 13.4 MB/s eta 0:00:01\n",
      "     ---------------------------------------  2.1/2.1 MB 13.2 MB/s eta 0:00:01\n",
      "     ---------------------------------------- 2.1/2.1 MB 11.1 MB/s eta 0:00:00\n",
      "Collecting tzdata>=2022.7\n",
      "  Using cached tzdata-2024.2-py2.py3-none-any.whl (346 kB)\n",
      "Collecting pytz>=2020.1\n",
      "  Using cached pytz-2024.2-py2.py3-none-any.whl (508 kB)\n",
      "Collecting python-dateutil>=2.8.2\n",
      "  Using cached python_dateutil-2.9.0.post0-py2.py3-none-any.whl (229 kB)\n",
      "Collecting numpy>=1.22.4\n",
      "  Downloading numpy-2.2.0-cp310-cp310-win_amd64.whl (12.9 MB)\n",
      "     ---------------------------------------- 0.0/12.9 MB ? eta -:--:--\n",
      "     - -------------------------------------- 0.6/12.9 MB 12.2 MB/s eta 0:00:02\n",
      "     --- ------------------------------------ 1.1/12.9 MB 13.4 MB/s eta 0:00:01\n",
      "     ---- ----------------------------------- 1.4/12.9 MB 10.9 MB/s eta 0:00:02\n",
      "     ----- ---------------------------------- 1.9/12.9 MB 10.0 MB/s eta 0:00:02\n",
      "     ------- -------------------------------- 2.4/12.9 MB 11.0 MB/s eta 0:00:01\n",
      "     -------- ------------------------------- 2.9/12.9 MB 10.8 MB/s eta 0:00:01\n",
      "     ---------- ----------------------------- 3.4/12.9 MB 10.3 MB/s eta 0:00:01\n",
      "     ------------ --------------------------- 3.9/12.9 MB 10.8 MB/s eta 0:00:01\n",
      "     ------------- -------------------------- 4.4/12.9 MB 10.3 MB/s eta 0:00:01\n",
      "     -------------- ------------------------- 4.7/12.9 MB 10.1 MB/s eta 0:00:01\n",
      "     --------------- ------------------------ 5.1/12.9 MB 9.9 MB/s eta 0:00:01\n",
      "     ---------------- ----------------------- 5.4/12.9 MB 9.6 MB/s eta 0:00:01\n",
      "     ------------------ --------------------- 5.9/12.9 MB 9.6 MB/s eta 0:00:01\n",
      "     ------------------- -------------------- 6.2/12.9 MB 9.5 MB/s eta 0:00:01\n",
      "     -------------------- ------------------- 6.6/12.9 MB 9.4 MB/s eta 0:00:01\n",
      "     --------------------- ------------------ 7.0/12.9 MB 9.4 MB/s eta 0:00:01\n",
      "     ----------------------- ---------------- 7.5/12.9 MB 9.4 MB/s eta 0:00:01\n",
      "     ------------------------ --------------- 8.0/12.9 MB 9.4 MB/s eta 0:00:01\n",
      "     ------------------------- -------------- 8.3/12.9 MB 9.1 MB/s eta 0:00:01\n",
      "     --------------------------- ------------ 8.8/12.9 MB 9.3 MB/s eta 0:00:01\n",
      "     ---------------------------- ----------- 9.2/12.9 MB 9.3 MB/s eta 0:00:01\n",
      "     ------------------------------ --------- 9.7/12.9 MB 9.3 MB/s eta 0:00:01\n",
      "     ------------------------------- -------- 10.2/12.9 MB 9.4 MB/s eta 0:00:01\n",
      "     --------------------------------- ------ 10.8/12.9 MB 9.4 MB/s eta 0:00:01\n",
      "     ----------------------------------- ---- 11.3/12.9 MB 9.5 MB/s eta 0:00:01\n",
      "     ------------------------------------ --- 11.9/12.9 MB 9.5 MB/s eta 0:00:01\n",
      "     -------------------------------------- - 12.4/12.9 MB 9.5 MB/s eta 0:00:01\n",
      "     ---------------------------------------  12.9/12.9 MB 9.6 MB/s eta 0:00:01\n",
      "     ---------------------------------------  12.9/12.9 MB 9.6 MB/s eta 0:00:01\n",
      "     ---------------------------------------  12.9/12.9 MB 9.6 MB/s eta 0:00:01\n",
      "     ---------------------------------------- 12.9/12.9 MB 8.6 MB/s eta 0:00:00\n",
      "Collecting typing-extensions>=4.6.0\n",
      "  Downloading typing_extensions-4.12.2-py3-none-any.whl (37 kB)\n",
      "Collecting greenlet!=0.4.17\n",
      "  Downloading greenlet-3.1.1-cp310-cp310-win_amd64.whl (298 kB)\n",
      "     ---------------------------------------- 0.0/298.4 kB ? eta -:--:--\n",
      "     -------------------------------------- 298.4/298.4 kB 9.3 MB/s eta 0:00:00\n",
      "Collecting six>=1.5\n",
      "  Using cached six-1.17.0-py2.py3-none-any.whl (11 kB)\n",
      "Installing collected packages: pytz, tzdata, typing-extensions, six, psycopg2, numpy, greenlet, sqlalchemy, python-dateutil, pandas\n",
      "Successfully installed greenlet-3.1.1 numpy-2.2.0 pandas-2.2.3 psycopg2-2.9.10 python-dateutil-2.9.0.post0 pytz-2024.2 six-1.17.0 sqlalchemy-2.0.36 typing-extensions-4.12.2 tzdata-2024.2\n"
     ]
    },
    {
     "name": "stderr",
     "output_type": "stream",
     "text": [
      "\n",
      "[notice] A new release of pip is available: 23.0.1 -> 24.3.1\n",
      "[notice] To update, run: python.exe -m pip install --upgrade pip\n"
     ]
    }
   ],
   "execution_count": 1
  },
  {
   "metadata": {
    "ExecuteTime": {
     "end_time": "2025-01-13T08:46:48.408006Z",
     "start_time": "2025-01-13T08:46:48.404392Z"
    }
   },
   "cell_type": "code",
   "source": [
    "import os\n",
    "import tarfile\n",
    "import pandas as pd\n",
    "import matplotlib.pyplot as plt\n",
    "import numpy as np\n",
    "# from sklearn.model_selection import train_test_split\n",
    "# from sklearn.preprocessing import LabelEncoder, StandardScaler\n",
    "\n",
    "# Extracting Data from TAR.GZ Files\n",
    "\n",
    "file1_path = 'raw_data/compress_drug_files/gdc_download_20241213_111159.408787.tar.gz'\n",
    "file2_path = 'raw_data/compress_drug_files/gdc_download_20241213_111213.653205.tar.gz'"
   ],
   "id": "ba76039057f88042",
   "outputs": [],
   "execution_count": 4
  },
  {
   "metadata": {
    "ExecuteTime": {
     "end_time": "2025-01-03T09:23:18.989338Z",
     "start_time": "2025-01-03T09:23:18.943111Z"
    }
   },
   "cell_type": "code",
   "source": [
    "extracted_dir = 'raw_data/extracted_drug_response_files'\n",
    "def extract_tar_gz(file_path, output_dir):\n",
    "    with tarfile.open(file_path, 'r:gz') as tar:\n",
    "        tar.extractall(path=output_dir, filter=None)\n",
    "        print(f\"Extracted {file_path} to {output_dir}\")"
   ],
   "id": "b6df5a2fbf369bd9",
   "outputs": [],
   "execution_count": 169
  },
  {
   "metadata": {
    "ExecuteTime": {
     "end_time": "2025-01-03T09:23:40.673568Z",
     "start_time": "2025-01-03T09:23:40.653455Z"
    }
   },
   "cell_type": "code",
   "source": [
    "def list_all_files_in_directory(directory, file_extension=\".txt\"):\n",
    "    \"\"\"List all files with a specific extension in a directory and its subdirectories.\"\"\"\n",
    "    file_paths = []\n",
    "    for root, dirs, files in os.walk(directory):\n",
    "        for file in files:\n",
    "            if file.endswith(file_extension):\n",
    "                full_path = os.path.join(root, file)\n",
    "                file_paths.append(full_path)\n",
    "    return file_paths\n"
   ],
   "id": "308b43d31a8d0e8c",
   "outputs": [],
   "execution_count": 170
  },
  {
   "metadata": {
    "ExecuteTime": {
     "end_time": "2024-12-14T15:43:52.742321Z",
     "start_time": "2024-12-14T15:43:52.723783Z"
    }
   },
   "cell_type": "code",
   "source": [
    "extract_tar_gz(file1_path, extracted_dir)\n",
    "extract_tar_gz(file2_path, extracted_dir)\n"
   ],
   "id": "8d825c366472cb1e",
   "outputs": [
    {
     "name": "stdout",
     "output_type": "stream",
     "text": [
      "Extracted raw_data/compress_drug_files/gdc_download_20241213_111159.408787.tar.gz to raw_data/extracted_drug_response_files\n",
      "Extracted raw_data/compress_drug_files/gdc_download_20241213_111213.653205.tar.gz to raw_data/extracted_drug_response_files\n",
      "Loaded MANIFEST with shape (2, 1)\n"
     ]
    },
    {
     "name": "stderr",
     "output_type": "stream",
     "text": [
      "C:\\Users\\mawuk\\AppData\\Local\\Temp\\ipykernel_14452\\2881628237.py:4: DeprecationWarning: Python 3.14 will, by default, filter extracted tar archives and reject files or modify their metadata. Use the filter argument to control this behavior.\n",
      "  tar.extractall(path=output_dir, filter=None)\n"
     ]
    }
   ],
   "execution_count": 6
  },
  {
   "metadata": {
    "ExecuteTime": {
     "end_time": "2024-12-14T16:05:40.200098Z",
     "start_time": "2024-12-14T16:05:40.194229Z"
    }
   },
   "cell_type": "code",
   "source": [
    "output_dir = \"raw_data/extracted_drug_response_files\"\n",
    "files = list_all_files_in_directory(output_dir, file_extension=\".txt\")\n",
    "\n",
    "print(f\"Found {len(files)} files.\")\n",
    "for file_path in files:\n",
    "    print(file_path)"
   ],
   "id": "d595175f6f57d431",
   "outputs": [
    {
     "name": "stdout",
     "output_type": "stream",
     "text": [
      "Found 5 files.\n",
      "raw_data/extracted_drug_response_files\\MANIFEST.txt\n",
      "raw_data/extracted_drug_response_files\\3b0a2c87-68cc-4c4d-8a1c-5a2d8dac2125\\annotations.txt\n",
      "raw_data/extracted_drug_response_files\\3b0a2c87-68cc-4c4d-8a1c-5a2d8dac2125\\nationwidechildrens.org_clinical_drug_gbm.txt\n",
      "raw_data/extracted_drug_response_files\\c1f6276e-6e34-4c18-b599-88ffe9ad20bc\\annotations.txt\n",
      "raw_data/extracted_drug_response_files\\c1f6276e-6e34-4c18-b599-88ffe9ad20bc\\nationwidechildrens.org_clinical_drug_lgg.txt\n"
     ]
    }
   ],
   "execution_count": 11
  },
  {
   "metadata": {
    "ExecuteTime": {
     "end_time": "2024-12-18T21:05:18.279023Z",
     "start_time": "2024-12-18T21:05:18.263366Z"
    }
   },
   "cell_type": "code",
   "source": [
    "extracted_dir = 'raw_data/extracted_clinical_patient_data'\n",
    "file1_path = 'raw_data/compressed_clinical_files/gdc_download_20241218_205040.532657.tar.gz'\n",
    "file2_path = 'raw_data/compressed_clinical_files/gdc_download_20241218_205223.097279.tar.gz'\n",
    "\n",
    "extract_tar_gz(file1_path, extracted_dir)\n",
    "extract_tar_gz(file2_path, extracted_dir)"
   ],
   "id": "296eff23a3fa9b27",
   "outputs": [
    {
     "name": "stdout",
     "output_type": "stream",
     "text": [
      "Extracted raw_data/compressed_clinical_files/gdc_download_20241218_205040.532657.tar.gz to raw_data/extracted_clinical_patient_data\n",
      "Extracted raw_data/compressed_clinical_files/gdc_download_20241218_205223.097279.tar.gz to raw_data/extracted_clinical_patient_data\n"
     ]
    },
    {
     "name": "stderr",
     "output_type": "stream",
     "text": [
      "C:\\Users\\mawuk\\AppData\\Local\\Temp\\ipykernel_14452\\2881628237.py:4: DeprecationWarning: Python 3.14 will, by default, filter extracted tar archives and reject files or modify their metadata. Use the filter argument to control this behavior.\n",
      "  tar.extractall(path=output_dir, filter=None)\n"
     ]
    }
   ],
   "execution_count": 133
  },
  {
   "metadata": {
    "ExecuteTime": {
     "end_time": "2024-12-19T12:49:07.108760Z",
     "start_time": "2024-12-19T12:49:07.094285Z"
    }
   },
   "cell_type": "code",
   "source": [
    "output_dir = \"raw_data/extracted_clinical_patient_data\"\n",
    "files = list_all_files_in_directory(output_dir, file_extension=\".txt\")\n",
    "\n",
    "print(f\"Found {len(files)} files.\")\n",
    "for file_path in files:\n",
    "    print(file_path)"
   ],
   "id": "9c663b9983ca437d",
   "outputs": [
    {
     "name": "stdout",
     "output_type": "stream",
     "text": [
      "Found 5 files.\n",
      "raw_data/extracted_clinical_patient_data\\MANIFEST.txt\n",
      "raw_data/extracted_clinical_patient_data\\57683e22-a8ea-4eca-bfcf-f708cf459546\\annotations.txt\n",
      "raw_data/extracted_clinical_patient_data\\57683e22-a8ea-4eca-bfcf-f708cf459546\\nationwidechildrens.org_clinical_patient_gbm.txt\n",
      "raw_data/extracted_clinical_patient_data\\f3a1bc62-9552-4553-b318-7d9c21d21ce7\\annotations.txt\n",
      "raw_data/extracted_clinical_patient_data\\f3a1bc62-9552-4553-b318-7d9c21d21ce7\\nationwidechildrens.org_clinical_patient_lgg.txt\n"
     ]
    }
   ],
   "execution_count": 134
  },
  {
   "metadata": {},
   "cell_type": "markdown",
   "source": "## GBM DATA",
   "id": "f0fb3be3764df031"
  },
  {
   "metadata": {
    "ExecuteTime": {
     "end_time": "2025-01-13T08:47:23.550456Z",
     "start_time": "2025-01-13T08:47:23.542279Z"
    }
   },
   "cell_type": "code",
   "outputs": [],
   "execution_count": 6,
   "source": "file1_path = \"raw_data/extracted_drug_response_files/3b0a2c87-68cc-4c4d-8a1c-5a2d8dac2125/nationwidechildrens.org_clinical_drug_gbm.txt\"\n",
   "id": "77abb648ef208863"
  },
  {
   "metadata": {
    "ExecuteTime": {
     "end_time": "2025-01-13T08:47:48.966979Z",
     "start_time": "2025-01-13T08:47:48.947232Z"
    }
   },
   "cell_type": "code",
   "outputs": [
    {
     "data": {
      "text/plain": [
       "(1507, 28)"
      ]
     },
     "execution_count": 8,
     "metadata": {},
     "output_type": "execute_result"
    }
   ],
   "execution_count": 8,
   "source": [
    "df2 = pd.read_csv(file1_path, sep='\\t')\n",
    "df2.shape"
   ],
   "id": "532d591f01cf61ba"
  },
  {
   "metadata": {
    "ExecuteTime": {
     "end_time": "2025-01-13T08:51:44.676430Z",
     "start_time": "2025-01-13T08:51:44.645743Z"
    }
   },
   "cell_type": "code",
   "outputs": [],
   "execution_count": 13,
   "source": "df2.to_csv('raw_data/extracted_drug_response_files/gbm_drug.csv', index=False)",
   "id": "58c16e6fd15d5890"
  },
  {
   "metadata": {},
   "cell_type": "markdown",
   "source": "## Deleted Duplicate Columns Headings Using Excel",
   "id": "798d351649654749"
  },
  {
   "metadata": {
    "ExecuteTime": {
     "end_time": "2025-01-13T08:52:10.490687Z",
     "start_time": "2025-01-13T08:52:10.474027Z"
    }
   },
   "cell_type": "code",
   "outputs": [],
   "execution_count": 16,
   "source": "drug_response_df = pd.read_csv('raw_data/extracted_drug_response_files/gbm_drug.csv')",
   "id": "f372579b928ad7ba"
  },
  {
   "metadata": {
    "ExecuteTime": {
     "end_time": "2025-01-13T08:52:11.967307Z",
     "start_time": "2025-01-13T08:52:11.962741Z"
    }
   },
   "cell_type": "code",
   "outputs": [
    {
     "data": {
      "text/plain": [
       "(1505, 28)"
      ]
     },
     "execution_count": 17,
     "metadata": {},
     "output_type": "execute_result"
    }
   ],
   "execution_count": 17,
   "source": "drug_response_df.shape",
   "id": "625fc704cf8b78cc"
  },
  {
   "metadata": {
    "ExecuteTime": {
     "end_time": "2025-01-13T08:52:16.125014Z",
     "start_time": "2025-01-13T08:52:16.117871Z"
    }
   },
   "cell_type": "code",
   "outputs": [
    {
     "data": {
      "text/plain": [
       "bcr_patient_uuid                       0\n",
       "bcr_patient_barcode                    0\n",
       "bcr_drug_barcode                       0\n",
       "bcr_drug_uuid                          0\n",
       "form_completion_date                   0\n",
       "pharmaceutical_therapy_drug_name       0\n",
       "clinical_trial_drug_classification     0\n",
       "pharmaceutical_therapy_type            0\n",
       "pharmaceutical_tx_started_days_to      0\n",
       "pharmaceutical_tx_ongoing_indicator    0\n",
       "pharmaceutical_tx_ended_days_to        0\n",
       "treatment_best_response                0\n",
       "days_to_stem_cell_transplantation      0\n",
       "pharm_regimen                          0\n",
       "pharm_regimen_other                    0\n",
       "pharma_adjuvant_cycles_count           0\n",
       "pharma_type_other                      0\n",
       "pharmaceutical_tx_dose_units           0\n",
       "pharmaceutical_tx_total_dose_units     0\n",
       "prescribed_dose                        0\n",
       "regimen_number                         0\n",
       "route_of_administration                0\n",
       "stem_cell_transplantation              0\n",
       "stem_cell_transplantation_type         0\n",
       "therapy_regimen                        0\n",
       "therapy_regimen_other                  0\n",
       "total_dose                             0\n",
       "tx_on_clinical_trial                   0\n",
       "dtype: int64"
      ]
     },
     "execution_count": 18,
     "metadata": {},
     "output_type": "execute_result"
    }
   ],
   "execution_count": 18,
   "source": "drug_response_df.isnull().sum()\n",
   "id": "ac25288a22bd32b9"
  },
  {
   "metadata": {
    "ExecuteTime": {
     "end_time": "2025-01-13T08:52:31.150252Z",
     "start_time": "2025-01-13T08:52:31.145753Z"
    }
   },
   "cell_type": "code",
   "outputs": [
    {
     "name": "stdout",
     "output_type": "stream",
     "text": [
      "Number of unique patients (by UUID): 443\n"
     ]
    }
   ],
   "execution_count": 19,
   "source": [
    "unique_patients = drug_response_df['bcr_patient_uuid'].nunique()\n",
    "print(f\"Number of unique patients (by UUID): {unique_patients}\")"
   ],
   "id": "3577d4477f2e36c5"
  },
  {
   "metadata": {
    "ExecuteTime": {
     "end_time": "2025-01-13T08:52:35.230516Z",
     "start_time": "2025-01-13T08:52:35.227032Z"
    }
   },
   "cell_type": "code",
   "outputs": [
    {
     "name": "stdout",
     "output_type": "stream",
     "text": [
      "\n",
      "Unique Drug Names:\n",
      " 232\n"
     ]
    }
   ],
   "execution_count": 20,
   "source": [
    "unique_drugs = drug_response_df['pharmaceutical_therapy_drug_name'].nunique()\n",
    "# print(unique_drugs.shape)\n",
    "print(\"\\nUnique Drug Names:\\n\", unique_drugs)"
   ],
   "id": "cd14424b91b37163"
  },
  {
   "metadata": {
    "ExecuteTime": {
     "end_time": "2025-01-13T08:52:41.645202Z",
     "start_time": "2025-01-13T08:52:41.640210Z"
    }
   },
   "cell_type": "code",
   "outputs": [],
   "execution_count": 21,
   "source": "drug_counts = drug_response_df.groupby('bcr_patient_uuid')['pharmaceutical_therapy_drug_name'].nunique()",
   "id": "960f2486278a22ef"
  },
  {
   "metadata": {
    "ExecuteTime": {
     "end_time": "2025-01-13T08:53:33.524052Z",
     "start_time": "2025-01-13T08:53:33.518278Z"
    }
   },
   "cell_type": "code",
   "outputs": [
    {
     "name": "stdout",
     "output_type": "stream",
     "text": [
      "(6,)\n",
      "\n",
      "Unique pharmaceutical therapy type Names:\n",
      " ['Chemotherapy' 'Hormone Therapy' 'Immunotherapy'\n",
      " 'Targeted Molecular therapy' '[Discrepancy]' '[Not Available]']\n"
     ]
    }
   ],
   "execution_count": 24,
   "source": [
    "pharmaceutical_therapy_type = drug_response_df['pharmaceutical_therapy_type'].unique()\n",
    "print(pharmaceutical_therapy_type.shape)\n",
    "print(\"\\nUnique pharmaceutical therapy type Names:\\n\", pharmaceutical_therapy_type)"
   ],
   "id": "39e7609702d9ec7c"
  },
  {
   "metadata": {},
   "cell_type": "markdown",
   "source": "# Patient Clinical Data\n",
   "id": "c4cc82b3671e21"
  },
  {
   "metadata": {
    "ExecuteTime": {
     "end_time": "2025-01-13T08:56:01.834127Z",
     "start_time": "2025-01-13T08:56:01.782472Z"
    }
   },
   "cell_type": "code",
   "source": [
    "file1_path = \"raw_data/extracted_clinical_patient_data/57683e22-a8ea-4eca-bfcf-f708cf459546/nationwidechildrens.org_clinical_patient_gbm.txt\"\n",
    "\n",
    "\n",
    "df1 = pd.read_csv(file1_path, sep='\\t')"
   ],
   "id": "63926d62b4a7694d",
   "outputs": [],
   "execution_count": 28
  },
  {
   "metadata": {
    "ExecuteTime": {
     "end_time": "2025-01-13T08:56:14.952896Z",
     "start_time": "2025-01-13T08:56:14.949127Z"
    }
   },
   "cell_type": "code",
   "source": "print(f\"df1 shape{df1.shape} \")",
   "id": "2997ddf651b8f6a4",
   "outputs": [
    {
     "name": "stdout",
     "output_type": "stream",
     "text": [
      "df1 shape(601, 39) \n"
     ]
    }
   ],
   "execution_count": 29
  },
  {
   "metadata": {
    "ExecuteTime": {
     "end_time": "2025-01-13T08:57:49.392738Z",
     "start_time": "2025-01-13T08:57:49.378291Z"
    }
   },
   "cell_type": "code",
   "source": "df1.to_csv('raw_data/extracted_clinical_patient_data/gbm_patient_clinical_df.csv', index=False)",
   "id": "e087388e454ba71e",
   "outputs": [],
   "execution_count": 30
  },
  {
   "metadata": {},
   "cell_type": "markdown",
   "source": "## Deleting Duplicate Attribute Label with Excel",
   "id": "72376d823ba62a3f"
  },
  {
   "metadata": {
    "ExecuteTime": {
     "end_time": "2025-01-13T08:59:02.943110Z",
     "start_time": "2025-01-13T08:59:02.928840Z"
    }
   },
   "cell_type": "code",
   "source": [
    "patient_clinical_df = pd.read_csv('raw_data/extracted_clinical_patient_data/gbm_patient_clinical_df.csv')\n",
    "patient_clinical_df.shape"
   ],
   "id": "4eee1fa9d3a88646",
   "outputs": [
    {
     "data": {
      "text/plain": [
       "(599, 39)"
      ]
     },
     "execution_count": 31,
     "metadata": {},
     "output_type": "execute_result"
    }
   ],
   "execution_count": 31
  },
  {
   "metadata": {
    "ExecuteTime": {
     "end_time": "2025-01-13T08:59:10.207067Z",
     "start_time": "2025-01-13T08:59:10.203225Z"
    }
   },
   "cell_type": "code",
   "source": [
    "unique_patients = patient_clinical_df['bcr_patient_uuid'].nunique()\n",
    "print(f\"Number of unique patients (by UUID): {unique_patients}\")"
   ],
   "id": "271d2c96c1b55a08",
   "outputs": [
    {
     "name": "stdout",
     "output_type": "stream",
     "text": [
      "Number of unique patients (by UUID): 599\n"
     ]
    }
   ],
   "execution_count": 32
  },
  {
   "metadata": {
    "ExecuteTime": {
     "end_time": "2025-01-13T08:59:48.560432Z",
     "start_time": "2025-01-13T08:59:48.555143Z"
    }
   },
   "cell_type": "code",
   "source": [
    "drug_response_set = set(drug_response_df['bcr_patient_uuid'].unique())\n",
    "patient_clinical_set = set(patient_clinical_df['bcr_patient_uuid'].unique())\n",
    "\n",
    "# Step 3: Find the intersection of the two sets of patient IDs\n",
    "common_patients = drug_response_set.intersection(patient_clinical_set)\n",
    "\n",
    "# Step 4: Count the number of patients in common\n",
    "num_common_patients = len(common_patients)\n",
    "\n",
    "print(f\"Number of patients in common: {num_common_patients}\")"
   ],
   "id": "64d10d6a132dda80",
   "outputs": [
    {
     "name": "stdout",
     "output_type": "stream",
     "text": [
      "Number of patients in common: 443\n"
     ]
    }
   ],
   "execution_count": 34
  },
  {
   "metadata": {
    "ExecuteTime": {
     "end_time": "2025-01-13T09:00:40.702819Z",
     "start_time": "2025-01-13T09:00:40.669001Z"
    }
   },
   "cell_type": "code",
   "source": [
    "merge_key = 'bcr_patient_uuid'\n",
    "\n",
    "merged_df = pd.merge(drug_response_df, patient_clinical_df, on=merge_key, how='inner')\n",
    "print(\"\\nMerged Data Info:\")\n",
    "print(merged_df.info())"
   ],
   "id": "bdff4017dd33af3b",
   "outputs": [
    {
     "name": "stdout",
     "output_type": "stream",
     "text": [
      "\n",
      "Merged Data Info:\n",
      "<class 'pandas.core.frame.DataFrame'>\n",
      "RangeIndex: 1505 entries, 0 to 1504\n",
      "Data columns (total 66 columns):\n",
      " #   Column                                Non-Null Count  Dtype \n",
      "---  ------                                --------------  ----- \n",
      " 0   bcr_patient_uuid                      1505 non-null   object\n",
      " 1   bcr_patient_barcode_x                 1505 non-null   object\n",
      " 2   bcr_drug_barcode                      1505 non-null   object\n",
      " 3   bcr_drug_uuid                         1505 non-null   object\n",
      " 4   form_completion_date_x                1505 non-null   object\n",
      " 5   pharmaceutical_therapy_drug_name      1505 non-null   object\n",
      " 6   clinical_trial_drug_classification    1505 non-null   object\n",
      " 7   pharmaceutical_therapy_type           1505 non-null   object\n",
      " 8   pharmaceutical_tx_started_days_to     1505 non-null   object\n",
      " 9   pharmaceutical_tx_ongoing_indicator   1505 non-null   object\n",
      " 10  pharmaceutical_tx_ended_days_to       1505 non-null   object\n",
      " 11  treatment_best_response               1505 non-null   object\n",
      " 12  days_to_stem_cell_transplantation     1505 non-null   object\n",
      " 13  pharm_regimen                         1505 non-null   object\n",
      " 14  pharm_regimen_other                   1505 non-null   object\n",
      " 15  pharma_adjuvant_cycles_count          1505 non-null   object\n",
      " 16  pharma_type_other                     1505 non-null   object\n",
      " 17  pharmaceutical_tx_dose_units          1505 non-null   object\n",
      " 18  pharmaceutical_tx_total_dose_units    1505 non-null   object\n",
      " 19  prescribed_dose                       1505 non-null   object\n",
      " 20  regimen_number                        1505 non-null   object\n",
      " 21  route_of_administration               1505 non-null   object\n",
      " 22  stem_cell_transplantation             1505 non-null   object\n",
      " 23  stem_cell_transplantation_type        1505 non-null   object\n",
      " 24  therapy_regimen                       1505 non-null   object\n",
      " 25  therapy_regimen_other                 1505 non-null   object\n",
      " 26  total_dose                            1505 non-null   object\n",
      " 27  tx_on_clinical_trial                  1505 non-null   object\n",
      " 28  bcr_patient_barcode_y                 1505 non-null   object\n",
      " 29  form_completion_date_y                1505 non-null   object\n",
      " 30  history_lgg_dx_of_brain_tissue        1505 non-null   object\n",
      " 31  prospective_collection                1505 non-null   object\n",
      " 32  retrospective_collection              1505 non-null   object\n",
      " 33  gender                                1505 non-null   object\n",
      " 34  birth_days_to                         1505 non-null   object\n",
      " 35  race                                  1505 non-null   object\n",
      " 36  ethnicity                             1505 non-null   object\n",
      " 37  history_other_malignancy              1505 non-null   object\n",
      " 38  history_neoadjuvant_treatment         1505 non-null   object\n",
      " 39  initial_pathologic_dx_year            1505 non-null   object\n",
      " 40  method_initial_path_dx                1505 non-null   object\n",
      " 41  method_initial_path_dx_other          1505 non-null   object\n",
      " 42  vital_status                          1505 non-null   object\n",
      " 43  last_contact_days_to                  1505 non-null   object\n",
      " 44  death_days_to                         1505 non-null   object\n",
      " 45  tumor_status                          1505 non-null   object\n",
      " 46  karnofsky_score                       1505 non-null   object\n",
      " 47  ecog_score                            1505 non-null   object\n",
      " 48  performance_status_timing             1505 non-null   object\n",
      " 49  radiation_treatment_adjuvant          1505 non-null   object\n",
      " 50  pharmaceutical_tx_adjuvant            1505 non-null   object\n",
      " 51  treatment_outcome_first_course        1505 non-null   object\n",
      " 52  new_tumor_event_dx_indicator          1505 non-null   object\n",
      " 53  age_at_initial_pathologic_diagnosis   1505 non-null   object\n",
      " 54  anatomic_neoplasm_subdivision         1505 non-null   object\n",
      " 55  days_to_initial_pathologic_diagnosis  1505 non-null   object\n",
      " 56  disease_code                          1505 non-null   object\n",
      " 57  histological_type                     1505 non-null   object\n",
      " 58  icd_10                                1505 non-null   object\n",
      " 59  icd_o_3_histology                     1505 non-null   object\n",
      " 60  icd_o_3_site                          1505 non-null   object\n",
      " 61  informed_consent_verified             1505 non-null   object\n",
      " 62  patient_id                            1505 non-null   object\n",
      " 63  project_code                          1505 non-null   object\n",
      " 64  tissue_source_site                    1505 non-null   object\n",
      " 65  tumor_tissue_site                     1505 non-null   object\n",
      "dtypes: object(66)\n",
      "memory usage: 776.1+ KB\n",
      "None\n"
     ]
    }
   ],
   "execution_count": 35
  },
  {
   "metadata": {
    "ExecuteTime": {
     "end_time": "2025-01-13T09:00:59.339150Z",
     "start_time": "2025-01-13T09:00:59.295547Z"
    }
   },
   "cell_type": "code",
   "source": "merged_df.to_csv('raw_data/gbm_merged_drug_clinical.csv', index=False)",
   "id": "4a5e0bdd225cb5b4",
   "outputs": [],
   "execution_count": 36
  },
  {
   "metadata": {},
   "cell_type": "markdown",
   "source": "# Clinical Follow up Data",
   "id": "875c896ba7e99e13"
  },
  {
   "metadata": {
    "ExecuteTime": {
     "end_time": "2024-12-15T10:56:11.077381Z",
     "start_time": "2024-12-15T10:56:11.062272Z"
    }
   },
   "cell_type": "code",
   "source": [
    "extracted_dir = 'raw_data/extracted_follow_up_data'\n",
    "file1_path = 'raw_data/compressed_follow_up_data/gdc_download_20241214_150146.274210.tar.gz'\n",
    "file2_path = 'raw_data/compressed_follow_up_data/gdc_download_20241214_151521.969251.tar.gz'\n",
    "\n",
    "extract_tar_gz(file1_path, extracted_dir)\n",
    "extract_tar_gz(file2_path, extracted_dir)"
   ],
   "id": "1dc49e6ff5a862ae",
   "outputs": [
    {
     "name": "stdout",
     "output_type": "stream",
     "text": [
      "Extracted raw_data/compressed_follow_up_data/gdc_download_20241214_150146.274210.tar.gz to raw_data/extracted_follow_up_data\n",
      "Extracted raw_data/compressed_follow_up_data/gdc_download_20241214_151521.969251.tar.gz to raw_data/extracted_follow_up_data\n"
     ]
    },
    {
     "name": "stderr",
     "output_type": "stream",
     "text": [
      "C:\\Users\\mawuk\\AppData\\Local\\Temp\\ipykernel_14452\\2881628237.py:4: DeprecationWarning: Python 3.14 will, by default, filter extracted tar archives and reject files or modify their metadata. Use the filter argument to control this behavior.\n",
      "  tar.extractall(path=output_dir, filter=None)\n"
     ]
    }
   ],
   "execution_count": 39
  },
  {
   "metadata": {
    "ExecuteTime": {
     "end_time": "2024-12-15T10:57:13.218125Z",
     "start_time": "2024-12-15T10:57:13.193858Z"
    }
   },
   "cell_type": "code",
   "source": [
    "output_dir = \"raw_data/extracted_drug_response_files\"\n",
    "files = list_all_files_in_directory(output_dir, file_extension=\".txt\")\n",
    "\n",
    "print(f\"Found {len(files)} files.\")\n",
    "for file_path in files:\n",
    "    print(file_path)"
   ],
   "id": "8b3163009ceed215",
   "outputs": [
    {
     "name": "stdout",
     "output_type": "stream",
     "text": [
      "Found 5 files.\n",
      "raw_data/extracted_drug_response_files\\MANIFEST.txt\n",
      "raw_data/extracted_drug_response_files\\3b0a2c87-68cc-4c4d-8a1c-5a2d8dac2125\\annotations.txt\n",
      "raw_data/extracted_drug_response_files\\3b0a2c87-68cc-4c4d-8a1c-5a2d8dac2125\\nationwidechildrens.org_clinical_drug_gbm.txt\n",
      "raw_data/extracted_drug_response_files\\c1f6276e-6e34-4c18-b599-88ffe9ad20bc\\annotations.txt\n",
      "raw_data/extracted_drug_response_files\\c1f6276e-6e34-4c18-b599-88ffe9ad20bc\\nationwidechildrens.org_clinical_drug_lgg.txt\n"
     ]
    }
   ],
   "execution_count": 40
  },
  {
   "metadata": {
    "ExecuteTime": {
     "end_time": "2024-12-15T10:58:44.602869Z",
     "start_time": "2024-12-15T10:58:44.578349Z"
    }
   },
   "cell_type": "code",
   "source": [
    "file1_path = \"raw_data/extracted_follow_up_data/3bba81d3-f253-42ea-b9eb-72bc8641fd69/nationwidechildrens.org_clinical_follow_up_v1.0_lgg.txt\"\n",
    "file2_path = \"raw_data/extracted_follow_up_data/c9cdbc76-105d-429b-9fce-f000819716f9/nationwidechildrens.org_clinical_follow_up_v1.0_gbm.txt\"\n",
    "df1 = pd.read_csv(file1_path, sep='\\t')\n",
    "df2 = pd.read_csv(file2_path, sep='\\t')\n"
   ],
   "id": "b7c1328c5afa7d72",
   "outputs": [],
   "execution_count": 41
  },
  {
   "metadata": {
    "ExecuteTime": {
     "end_time": "2024-12-15T11:09:16.615037Z",
     "start_time": "2024-12-15T11:09:16.585540Z"
    }
   },
   "cell_type": "code",
   "source": "print(f\"df1 shape{df1.shape} \\ndf2 shape: {df2.shape}\")\n",
   "id": "2cc71e89ba65dbc2",
   "outputs": [
    {
     "name": "stdout",
     "output_type": "stream",
     "text": [
      "df1 shape(649, 29) \n",
      "df2 shape: (655, 19)\n"
     ]
    }
   ],
   "execution_count": 42
  },
  {
   "metadata": {
    "ExecuteTime": {
     "end_time": "2024-12-15T11:17:05.659609Z",
     "start_time": "2024-12-15T11:17:05.651844Z"
    }
   },
   "cell_type": "code",
   "source": [
    "common_columns = df1.keys().intersection(df2.keys())\n",
    "print(\"🟢 Common Columns:\", common_columns)"
   ],
   "id": "a94e461edea08a1c",
   "outputs": [
    {
     "name": "stdout",
     "output_type": "stream",
     "text": [
      "🟢 Common Columns: Index(['bcr_patient_uuid', 'bcr_patient_barcode', 'bcr_followup_barcode',\n",
      "       'bcr_followup_uuid', 'form_completion_date', 'followup_reason',\n",
      "       'followup_lost_to', 'radiation_treatment_adjuvant',\n",
      "       'pharmaceutical_tx_adjuvant', 'treatment_outcome_first_course',\n",
      "       'vital_status', 'last_contact_days_to', 'death_days_to', 'tumor_status',\n",
      "       'new_tumor_event_dx_indicator', 'treatment_outcome_at_tcga_followup',\n",
      "       'ecog_score', 'karnofsky_score', 'performance_status_timing'],\n",
      "      dtype='object')\n"
     ]
    }
   ],
   "execution_count": 47
  },
  {
   "metadata": {
    "ExecuteTime": {
     "end_time": "2024-12-15T11:22:40.354468Z",
     "start_time": "2024-12-15T11:22:40.348268Z"
    }
   },
   "cell_type": "code",
   "source": [
    "uncommon_columns = df1.keys().symmetric_difference(df2.keys())\n",
    "print(\"🟢 Uncommon Columns:\", uncommon_columns)"
   ],
   "id": "c359de3a6818c39d",
   "outputs": [
    {
     "name": "stdout",
     "output_type": "stream",
     "text": [
      "🟢 Uncommon Columns: Index(['days_to_performance_status_assessment', 'new_neoplasm_event_type',\n",
      "       'new_tumor_event_dx_days_to', 'new_tumor_event_pharmaceutical_tx',\n",
      "       'new_tumor_event_radiation_tx', 'new_tumor_event_surgery',\n",
      "       'new_tumor_event_surgery_days_to_loco',\n",
      "       'new_tumor_event_surgery_days_to_met', 'new_tumor_event_surgery_met',\n",
      "       'patient_death_reason'],\n",
      "      dtype='object')\n"
     ]
    }
   ],
   "execution_count": 48
  },
  {
   "metadata": {
    "ExecuteTime": {
     "end_time": "2024-12-15T11:54:59.895557Z",
     "start_time": "2024-12-15T11:54:59.891064Z"
    }
   },
   "cell_type": "code",
   "source": "df1 = df1.drop(columns=uncommon_columns)",
   "id": "bb1d5ab0fd51b753",
   "outputs": [],
   "execution_count": 49
  },
  {
   "metadata": {
    "ExecuteTime": {
     "end_time": "2024-12-15T11:55:02.688168Z",
     "start_time": "2024-12-15T11:55:02.681563Z"
    }
   },
   "cell_type": "code",
   "source": [
    "df_list = [df1, df2]\n",
    "combined_df = pd.concat(df_list, ignore_index=True)"
   ],
   "id": "afa585b780a07cdd",
   "outputs": [],
   "execution_count": 50
  },
  {
   "metadata": {
    "ExecuteTime": {
     "end_time": "2024-12-15T11:55:19.507062Z",
     "start_time": "2024-12-15T11:55:19.490947Z"
    }
   },
   "cell_type": "code",
   "source": [
    "combined_df.head()\n",
    "combined_df.to_csv('raw_data/extracted_follow_up_data/combined_follow_up_data.csv', index=False)"
   ],
   "id": "4044c91d5067e326",
   "outputs": [],
   "execution_count": 52
  },
  {
   "metadata": {},
   "cell_type": "markdown",
   "source": "## Deleting Duplicate Column Labels Using Excel",
   "id": "f4aa3c39ef273984"
  },
  {
   "metadata": {
    "ExecuteTime": {
     "end_time": "2024-12-15T17:51:46.410638Z",
     "start_time": "2024-12-15T17:51:46.386459Z"
    }
   },
   "cell_type": "code",
   "source": [
    "follow_up_df = pd.read_csv('raw_data/extracted_follow_up_data/combined_follow_up_data.csv')\n",
    "follow_up_df.isnull().sum()"
   ],
   "id": "738803994c737732",
   "outputs": [
    {
     "data": {
      "text/plain": [
       "bcr_patient_uuid                      0\n",
       "bcr_patient_barcode                   0\n",
       "bcr_followup_barcode                  0\n",
       "bcr_followup_uuid                     0\n",
       "form_completion_date                  0\n",
       "followup_reason                       0\n",
       "followup_lost_to                      0\n",
       "radiation_treatment_adjuvant          0\n",
       "pharmaceutical_tx_adjuvant            0\n",
       "treatment_outcome_first_course        0\n",
       "vital_status                          0\n",
       "last_contact_days_to                  0\n",
       "death_days_to                         0\n",
       "tumor_status                          0\n",
       "new_tumor_event_dx_indicator          0\n",
       "treatment_outcome_at_tcga_followup    0\n",
       "ecog_score                            0\n",
       "karnofsky_score                       0\n",
       "performance_status_timing             0\n",
       "dtype: int64"
      ]
     },
     "execution_count": 63,
     "metadata": {},
     "output_type": "execute_result"
    }
   ],
   "execution_count": 63
  },
  {
   "metadata": {
    "ExecuteTime": {
     "end_time": "2024-12-15T17:51:56.624192Z",
     "start_time": "2024-12-15T17:51:56.617908Z"
    }
   },
   "cell_type": "code",
   "source": [
    "not_available_mask = follow_up_df.isin(['[Not Available]'])\n",
    "\n",
    "# Count how many \"[Not Available]\" entries are in each column\n",
    "not_available_counts = not_available_mask.sum()\n",
    "\n",
    "print(\"\\n[Not Available] counts per column:\")\n",
    "print(not_available_counts)"
   ],
   "id": "d1379ac8adc8b956",
   "outputs": [
    {
     "name": "stdout",
     "output_type": "stream",
     "text": [
      "\n",
      "[Not Available] counts per column:\n",
      "bcr_patient_uuid                         0\n",
      "bcr_patient_barcode                      0\n",
      "bcr_followup_barcode                     0\n",
      "bcr_followup_uuid                        0\n",
      "form_completion_date                     0\n",
      "followup_reason                        683\n",
      "followup_lost_to                       794\n",
      "radiation_treatment_adjuvant            77\n",
      "pharmaceutical_tx_adjuvant             112\n",
      "treatment_outcome_first_course         674\n",
      "vital_status                            21\n",
      "last_contact_days_to                   222\n",
      "death_days_to                            1\n",
      "tumor_status                           114\n",
      "new_tumor_event_dx_indicator           645\n",
      "treatment_outcome_at_tcga_followup     685\n",
      "ecog_score                            1207\n",
      "karnofsky_score                        773\n",
      "performance_status_timing              840\n",
      "dtype: int64\n"
     ]
    }
   ],
   "execution_count": 65
  },
  {
   "metadata": {
    "ExecuteTime": {
     "end_time": "2024-12-15T17:52:02.165609Z",
     "start_time": "2024-12-15T17:52:02.161041Z"
    }
   },
   "cell_type": "code",
   "source": "follow_up_df.shape",
   "id": "235437e6efa9e962",
   "outputs": [
    {
     "data": {
      "text/plain": [
       "(1300, 19)"
      ]
     },
     "execution_count": 66,
     "metadata": {},
     "output_type": "execute_result"
    }
   ],
   "execution_count": 66
  },
  {
   "metadata": {
    "ExecuteTime": {
     "end_time": "2024-12-18T08:26:29.491314Z",
     "start_time": "2024-12-18T08:26:29.484839Z"
    }
   },
   "cell_type": "code",
   "source": [
    "print(\"Unique values in tumor_status column:\")\n",
    "print(follow_up_df['tumor_status'].value_counts())"
   ],
   "id": "6f30e044a8fbf976",
   "outputs": [
    {
     "name": "stdout",
     "output_type": "stream",
     "text": [
      "Unique values in tumor_status column:\n",
      "tumor_status\n",
      "WITH TUMOR         904\n",
      "TUMOR FREE         225\n",
      "[Not Available]    114\n",
      "[Unknown]           52\n",
      "[Discrepancy]        5\n",
      "Name: count, dtype: int64\n"
     ]
    }
   ],
   "execution_count": 128
  },
  {
   "metadata": {},
   "cell_type": "markdown",
   "source": "## Merging the DFs",
   "id": "2a9a0fc10bc7b69f"
  },
  {
   "metadata": {
    "ExecuteTime": {
     "end_time": "2024-12-20T10:28:34.038112Z",
     "start_time": "2024-12-20T10:28:33.903499Z"
    }
   },
   "cell_type": "code",
   "source": [
    "merge_key = 'bcr_patient_uuid'\n",
    "\n",
    "merged_df = pd.merge(drug_response_df, follow_up_df, on=merge_key, how='inner')\n",
    "print(\"\\nMerged Data Info:\")\n",
    "print(merged_df.info())"
   ],
   "id": "b5bf8dce6d292fc3",
   "outputs": [
    {
     "name": "stdout",
     "output_type": "stream",
     "text": [
      "\n",
      "Merged Data Info:\n",
      "<class 'pandas.core.frame.DataFrame'>\n",
      "RangeIndex: 2898 entries, 0 to 2897\n",
      "Data columns (total 46 columns):\n",
      " #   Column                               Non-Null Count  Dtype \n",
      "---  ------                               --------------  ----- \n",
      " 0   bcr_patient_uuid                     2898 non-null   object\n",
      " 1   bcr_patient_barcode_x                2898 non-null   object\n",
      " 2   bcr_drug_barcode                     2898 non-null   object\n",
      " 3   bcr_drug_uuid                        2898 non-null   object\n",
      " 4   form_completion_date_x               2898 non-null   object\n",
      " 5   pharmaceutical_therapy_drug_name     2898 non-null   object\n",
      " 6   clinical_trial_drug_classification   2898 non-null   object\n",
      " 7   pharmaceutical_therapy_type          2898 non-null   object\n",
      " 8   pharmaceutical_tx_started_days_to    2898 non-null   object\n",
      " 9   pharmaceutical_tx_ongoing_indicator  2898 non-null   object\n",
      " 10  pharmaceutical_tx_ended_days_to      2898 non-null   object\n",
      " 11  treatment_best_response              2898 non-null   object\n",
      " 12  days_to_stem_cell_transplantation    2898 non-null   object\n",
      " 13  pharm_regimen                        2898 non-null   object\n",
      " 14  pharm_regimen_other                  2898 non-null   object\n",
      " 15  pharma_adjuvant_cycles_count         2898 non-null   object\n",
      " 16  pharma_type_other                    2898 non-null   object\n",
      " 17  pharmaceutical_tx_dose_units         2898 non-null   object\n",
      " 18  pharmaceutical_tx_total_dose_units   2898 non-null   object\n",
      " 19  prescribed_dose                      2898 non-null   object\n",
      " 20  regimen_number                       2898 non-null   object\n",
      " 21  route_of_administration              2898 non-null   object\n",
      " 22  stem_cell_transplantation            2898 non-null   object\n",
      " 23  stem_cell_transplantation_type       2898 non-null   object\n",
      " 24  therapy_regimen                      2898 non-null   object\n",
      " 25  therapy_regimen_other                2898 non-null   object\n",
      " 26  total_dose                           2898 non-null   object\n",
      " 27  tx_on_clinical_trial                 2898 non-null   object\n",
      " 28  bcr_patient_barcode_y                2898 non-null   object\n",
      " 29  bcr_followup_barcode                 2898 non-null   object\n",
      " 30  bcr_followup_uuid                    2898 non-null   object\n",
      " 31  form_completion_date_y               2898 non-null   object\n",
      " 32  followup_reason                      2898 non-null   object\n",
      " 33  followup_lost_to                     2898 non-null   object\n",
      " 34  radiation_treatment_adjuvant         2898 non-null   object\n",
      " 35  pharmaceutical_tx_adjuvant           2898 non-null   object\n",
      " 36  treatment_outcome_first_course       2898 non-null   object\n",
      " 37  vital_status                         2898 non-null   object\n",
      " 38  last_contact_days_to                 2898 non-null   object\n",
      " 39  death_days_to                        2898 non-null   object\n",
      " 40  tumor_status                         2898 non-null   object\n",
      " 41  new_tumor_event_dx_indicator         2898 non-null   object\n",
      " 42  treatment_outcome_at_tcga_followup   2898 non-null   object\n",
      " 43  ecog_score                           2898 non-null   object\n",
      " 44  karnofsky_score                      2898 non-null   object\n",
      " 45  performance_status_timing            2898 non-null   object\n",
      "dtypes: object(46)\n",
      "memory usage: 1.0+ MB\n",
      "None\n"
     ]
    }
   ],
   "execution_count": 150
  },
  {
   "metadata": {
    "ExecuteTime": {
     "end_time": "2024-12-20T10:29:05.867526Z",
     "start_time": "2024-12-20T10:29:05.847288Z"
    }
   },
   "cell_type": "code",
   "source": "merged_df = pd.merge(merged_df, patient_clinical_df, on=merge_key, how='inner')",
   "id": "468f66300a8b766f",
   "outputs": [],
   "execution_count": 151
  },
  {
   "metadata": {
    "ExecuteTime": {
     "end_time": "2024-12-20T10:29:28.545519Z",
     "start_time": "2024-12-20T10:29:28.540385Z"
    }
   },
   "cell_type": "code",
   "source": "merged_df.shape",
   "id": "972626039a5a5226",
   "outputs": [
    {
     "data": {
      "text/plain": [
       "(2898, 79)"
      ]
     },
     "execution_count": 153,
     "metadata": {},
     "output_type": "execute_result"
    }
   ],
   "execution_count": 153
  }
 ],
 "metadata": {
  "kernelspec": {
   "display_name": "Python 3",
   "language": "python",
   "name": "python3"
  },
  "language_info": {
   "codemirror_mode": {
    "name": "ipython",
    "version": 2
   },
   "file_extension": ".py",
   "mimetype": "text/x-python",
   "name": "python",
   "nbconvert_exporter": "python",
   "pygments_lexer": "ipython2",
   "version": "2.7.6"
  }
 },
 "nbformat": 4,
 "nbformat_minor": 5
}
