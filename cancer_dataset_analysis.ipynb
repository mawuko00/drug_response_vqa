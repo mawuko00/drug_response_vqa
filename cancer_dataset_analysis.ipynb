{
 "cells": [
  {
   "metadata": {
    "ExecuteTime": {
     "end_time": "2025-01-27T05:47:15.701883Z",
     "start_time": "2025-01-27T05:47:08.504337Z"
    }
   },
   "cell_type": "code",
   "source": "!pip install openpyxl",
   "id": "7c9e8a79c62c49d3",
   "outputs": [
    {
     "name": "stdout",
     "output_type": "stream",
     "text": [
      "Collecting openpyxl\n",
      "  Downloading openpyxl-3.1.5-py2.py3-none-any.whl (250 kB)\n",
      "     ---------------------------------------- 0.0/250.9 kB ? eta -:--:--\n",
      "     ------------------------------------  245.8/250.9 kB 14.7 MB/s eta 0:00:01\n",
      "     -------------------------------------- 250.9/250.9 kB 5.1 MB/s eta 0:00:00\n",
      "Collecting et-xmlfile\n",
      "  Downloading et_xmlfile-2.0.0-py3-none-any.whl (18 kB)\n",
      "Installing collected packages: et-xmlfile, openpyxl\n",
      "Successfully installed et-xmlfile-2.0.0 openpyxl-3.1.5\n"
     ]
    },
    {
     "name": "stderr",
     "output_type": "stream",
     "text": [
      "\n",
      "[notice] A new release of pip is available: 23.0.1 -> 25.0\n",
      "[notice] To update, run: python.exe -m pip install --upgrade pip\n"
     ]
    }
   ],
   "execution_count": 1
  },
  {
   "cell_type": "code",
   "id": "initial_id",
   "metadata": {
    "collapsed": true,
    "ExecuteTime": {
     "end_time": "2025-02-03T08:23:27.182483Z",
     "start_time": "2025-02-03T08:23:26.909339Z"
    }
   },
   "source": [
    "import pandas as pd\n",
    "import openpyxl\n",
    "\n",
    "\n",
    "\n",
    "from qa_gen_util import *"
   ],
   "outputs": [],
   "execution_count": 1
  },
  {
   "metadata": {
    "ExecuteTime": {
     "end_time": "2025-02-05T10:40:11.370244Z",
     "start_time": "2025-02-05T10:40:10.638384Z"
    }
   },
   "cell_type": "code",
   "source": [
    "file_path = 'raw_data/all_cancer_data/bioinfo16_supplementary_tables.xlsx'\n",
    "\n",
    "sheet_name = 'Table S2'\n",
    "\n",
    "\n",
    "df = pd.read_excel(file_path, sheet_name=sheet_name)\n",
    "\n",
    "\n",
    "df.head()"
   ],
   "id": "662b897f37fb3697",
   "outputs": [
    {
     "data": {
      "text/plain": [
       "                           Cancer bcr_patient_barcode     drug_name  \\\n",
       "0  Adrenocortical carcinoma (ACC)        TCGA-OR-A5JM     Sunitinib   \n",
       "1  Adrenocortical carcinoma (ACC)        TCGA-OR-A5JM  Ketoconazole   \n",
       "2  Adrenocortical carcinoma (ACC)        TCGA-OU-A5PI     Etoposide   \n",
       "3  Adrenocortical carcinoma (ACC)        TCGA-OU-A5PI   Doxorubicin   \n",
       "4  Adrenocortical carcinoma (ACC)        TCGA-OU-A5PI     Cisplatin   \n",
       "\n",
       "  DrugBank ID           measure_of_response days_to_drug_therapy_start  \\\n",
       "0     DB01268  Clinical Progressive Disease                        378   \n",
       "1     DB01026  Clinical Progressive Disease                        378   \n",
       "2     DB00773                Stable Disease                         69   \n",
       "3     DB00997                Stable Disease                         69   \n",
       "4     DB00515                Stable Disease                         55   \n",
       "\n",
       "  days_to_drug_therapy_end  days_to_initial_pathologic_diagnosis  \\\n",
       "0                      439                                   0.0   \n",
       "1                      439                                   0.0   \n",
       "2                      239                                   0.0   \n",
       "3                      239                                   0.0   \n",
       "4                      239                                   0.0   \n",
       "\n",
       "  method_of_sample_procurement  days_to_sample_procurement  \\\n",
       "0           Surgical Resection                         1.0   \n",
       "1           Surgical Resection                         1.0   \n",
       "2           Surgical Resection                         0.0   \n",
       "3           Surgical Resection                         0.0   \n",
       "4           Surgical Resection                         0.0   \n",
       "\n",
       "   days_to_new_tumor_event_after_initial_treatment  \\\n",
       "0                                             72.0   \n",
       "1                                             72.0   \n",
       "2                                            351.0   \n",
       "3                                            351.0   \n",
       "4                                            351.0   \n",
       "\n",
       "  additional_pharmaceutical_therapy  \\\n",
       "0                               YES   \n",
       "1                               YES   \n",
       "2                               YES   \n",
       "3                               YES   \n",
       "4                               YES   \n",
       "\n",
       "  new_tumor_event_additional_surgery_procedure  \\\n",
       "0                                           NO   \n",
       "1                                           NO   \n",
       "2                                          YES   \n",
       "3                                          YES   \n",
       "4                                          YES   \n",
       "\n",
       "  history_of_neoadjuvant_treatment  \n",
       "0                              Yes  \n",
       "1                              Yes  \n",
       "2                               No  \n",
       "3                               No  \n",
       "4                               No  "
      ],
      "text/html": [
       "<div>\n",
       "<style scoped>\n",
       "    .dataframe tbody tr th:only-of-type {\n",
       "        vertical-align: middle;\n",
       "    }\n",
       "\n",
       "    .dataframe tbody tr th {\n",
       "        vertical-align: top;\n",
       "    }\n",
       "\n",
       "    .dataframe thead th {\n",
       "        text-align: right;\n",
       "    }\n",
       "</style>\n",
       "<table border=\"1\" class=\"dataframe\">\n",
       "  <thead>\n",
       "    <tr style=\"text-align: right;\">\n",
       "      <th></th>\n",
       "      <th>Cancer</th>\n",
       "      <th>bcr_patient_barcode</th>\n",
       "      <th>drug_name</th>\n",
       "      <th>DrugBank ID</th>\n",
       "      <th>measure_of_response</th>\n",
       "      <th>days_to_drug_therapy_start</th>\n",
       "      <th>days_to_drug_therapy_end</th>\n",
       "      <th>days_to_initial_pathologic_diagnosis</th>\n",
       "      <th>method_of_sample_procurement</th>\n",
       "      <th>days_to_sample_procurement</th>\n",
       "      <th>days_to_new_tumor_event_after_initial_treatment</th>\n",
       "      <th>additional_pharmaceutical_therapy</th>\n",
       "      <th>new_tumor_event_additional_surgery_procedure</th>\n",
       "      <th>history_of_neoadjuvant_treatment</th>\n",
       "    </tr>\n",
       "  </thead>\n",
       "  <tbody>\n",
       "    <tr>\n",
       "      <th>0</th>\n",
       "      <td>Adrenocortical carcinoma (ACC)</td>\n",
       "      <td>TCGA-OR-A5JM</td>\n",
       "      <td>Sunitinib</td>\n",
       "      <td>DB01268</td>\n",
       "      <td>Clinical Progressive Disease</td>\n",
       "      <td>378</td>\n",
       "      <td>439</td>\n",
       "      <td>0.0</td>\n",
       "      <td>Surgical Resection</td>\n",
       "      <td>1.0</td>\n",
       "      <td>72.0</td>\n",
       "      <td>YES</td>\n",
       "      <td>NO</td>\n",
       "      <td>Yes</td>\n",
       "    </tr>\n",
       "    <tr>\n",
       "      <th>1</th>\n",
       "      <td>Adrenocortical carcinoma (ACC)</td>\n",
       "      <td>TCGA-OR-A5JM</td>\n",
       "      <td>Ketoconazole</td>\n",
       "      <td>DB01026</td>\n",
       "      <td>Clinical Progressive Disease</td>\n",
       "      <td>378</td>\n",
       "      <td>439</td>\n",
       "      <td>0.0</td>\n",
       "      <td>Surgical Resection</td>\n",
       "      <td>1.0</td>\n",
       "      <td>72.0</td>\n",
       "      <td>YES</td>\n",
       "      <td>NO</td>\n",
       "      <td>Yes</td>\n",
       "    </tr>\n",
       "    <tr>\n",
       "      <th>2</th>\n",
       "      <td>Adrenocortical carcinoma (ACC)</td>\n",
       "      <td>TCGA-OU-A5PI</td>\n",
       "      <td>Etoposide</td>\n",
       "      <td>DB00773</td>\n",
       "      <td>Stable Disease</td>\n",
       "      <td>69</td>\n",
       "      <td>239</td>\n",
       "      <td>0.0</td>\n",
       "      <td>Surgical Resection</td>\n",
       "      <td>0.0</td>\n",
       "      <td>351.0</td>\n",
       "      <td>YES</td>\n",
       "      <td>YES</td>\n",
       "      <td>No</td>\n",
       "    </tr>\n",
       "    <tr>\n",
       "      <th>3</th>\n",
       "      <td>Adrenocortical carcinoma (ACC)</td>\n",
       "      <td>TCGA-OU-A5PI</td>\n",
       "      <td>Doxorubicin</td>\n",
       "      <td>DB00997</td>\n",
       "      <td>Stable Disease</td>\n",
       "      <td>69</td>\n",
       "      <td>239</td>\n",
       "      <td>0.0</td>\n",
       "      <td>Surgical Resection</td>\n",
       "      <td>0.0</td>\n",
       "      <td>351.0</td>\n",
       "      <td>YES</td>\n",
       "      <td>YES</td>\n",
       "      <td>No</td>\n",
       "    </tr>\n",
       "    <tr>\n",
       "      <th>4</th>\n",
       "      <td>Adrenocortical carcinoma (ACC)</td>\n",
       "      <td>TCGA-OU-A5PI</td>\n",
       "      <td>Cisplatin</td>\n",
       "      <td>DB00515</td>\n",
       "      <td>Stable Disease</td>\n",
       "      <td>55</td>\n",
       "      <td>239</td>\n",
       "      <td>0.0</td>\n",
       "      <td>Surgical Resection</td>\n",
       "      <td>0.0</td>\n",
       "      <td>351.0</td>\n",
       "      <td>YES</td>\n",
       "      <td>YES</td>\n",
       "      <td>No</td>\n",
       "    </tr>\n",
       "  </tbody>\n",
       "</table>\n",
       "</div>"
      ]
     },
     "execution_count": 29,
     "metadata": {},
     "output_type": "execute_result"
    }
   ],
   "execution_count": 29
  },
  {
   "metadata": {
    "ExecuteTime": {
     "end_time": "2025-02-05T10:40:15.366424Z",
     "start_time": "2025-02-05T10:40:15.362042Z"
    }
   },
   "cell_type": "code",
   "source": "df.shape",
   "id": "5b4625c4754632f",
   "outputs": [
    {
     "data": {
      "text/plain": [
       "(2572, 14)"
      ]
     },
     "execution_count": 30,
     "metadata": {},
     "output_type": "execute_result"
    }
   ],
   "execution_count": 30
  },
  {
   "metadata": {
    "ExecuteTime": {
     "end_time": "2025-02-03T10:07:17.593027Z",
     "start_time": "2025-02-03T10:07:17.574743Z"
    }
   },
   "cell_type": "code",
   "source": "duplicate_rows = df[df.duplicated('bcr_patient_barcode', keep=False)]",
   "id": "8986fbe99ef2f316",
   "outputs": [],
   "execution_count": 24
  },
  {
   "metadata": {
    "ExecuteTime": {
     "end_time": "2025-02-03T10:07:20.855328Z",
     "start_time": "2025-02-03T10:07:20.846223Z"
    }
   },
   "cell_type": "code",
   "source": "print(duplicate_rows)",
   "id": "3fbc63ded7df5d2a",
   "outputs": [
    {
     "name": "stdout",
     "output_type": "stream",
     "text": [
      "                              Cancer bcr_patient_barcode         drug_name  \\\n",
      "0     Adrenocortical carcinoma (ACC)        TCGA-OR-A5JM         Sunitinib   \n",
      "1     Adrenocortical carcinoma (ACC)        TCGA-OR-A5JM      Ketoconazole   \n",
      "2     Adrenocortical carcinoma (ACC)        TCGA-OU-A5PI         Etoposide   \n",
      "3     Adrenocortical carcinoma (ACC)        TCGA-OU-A5PI       Doxorubicin   \n",
      "4     Adrenocortical carcinoma (ACC)        TCGA-OU-A5PI         Cisplatin   \n",
      "...                              ...                 ...               ...   \n",
      "2567    Uterine Carcinosarcoma (UCS)        TCGA-NG-A4VU        Paclitaxel   \n",
      "2568    Uterine Carcinosarcoma (UCS)        TCGA-NG-A4VU        Ifosfamide   \n",
      "2569    Uterine Carcinosarcoma (UCS)        TCGA-NG-A4VW         Cisplatin   \n",
      "2570    Uterine Carcinosarcoma (UCS)        TCGA-NG-A4VW       Doxorubicin   \n",
      "2571    Uterine Carcinosarcoma (UCS)        TCGA-NG-A4VW  Cyclophosphamide   \n",
      "\n",
      "     DrugBank ID           measure_of_response days_to_drug_therapy_start  \\\n",
      "0        DB01268  Clinical Progressive Disease                        378   \n",
      "1        DB01026  Clinical Progressive Disease                        378   \n",
      "2        DB00773                Stable Disease                         69   \n",
      "3        DB00997                Stable Disease                         69   \n",
      "4        DB00515                Stable Disease                         55   \n",
      "...          ...                           ...                        ...   \n",
      "2567     DB01229  Clinical Progressive Disease                         76   \n",
      "2568     DB01181  Clinical Progressive Disease                         76   \n",
      "2569     DB00515             Complete Response                         57   \n",
      "2570     DB00997             Complete Response                         57   \n",
      "2571     DB00531             Complete Response                         57   \n",
      "\n",
      "     days_to_drug_therapy_end  days_to_initial_pathologic_diagnosis  \\\n",
      "0                         439                                   0.0   \n",
      "1                         439                                   0.0   \n",
      "2                         239                                   0.0   \n",
      "3                         239                                   0.0   \n",
      "4                         239                                   0.0   \n",
      "...                       ...                                   ...   \n",
      "2567                      258                                   0.0   \n",
      "2568                      258                                   0.0   \n",
      "2569                      197                                   0.0   \n",
      "2570                      197                                   0.0   \n",
      "2571                      197                                   0.0   \n",
      "\n",
      "     method_of_sample_procurement  days_to_sample_procurement  \\\n",
      "0              Surgical Resection                         1.0   \n",
      "1              Surgical Resection                         1.0   \n",
      "2              Surgical Resection                         0.0   \n",
      "3              Surgical Resection                         0.0   \n",
      "4              Surgical Resection                         0.0   \n",
      "...                           ...                         ...   \n",
      "2567            Full Hysterectomy                        30.0   \n",
      "2568            Full Hysterectomy                        30.0   \n",
      "2569            Full Hysterectomy                        23.0   \n",
      "2570            Full Hysterectomy                        23.0   \n",
      "2571            Full Hysterectomy                        23.0   \n",
      "\n",
      "      days_to_new_tumor_event_after_initial_treatment  \\\n",
      "0                                                72.0   \n",
      "1                                                72.0   \n",
      "2                                               351.0   \n",
      "3                                               351.0   \n",
      "4                                               351.0   \n",
      "...                                               ...   \n",
      "2567                                            281.0   \n",
      "2568                                            281.0   \n",
      "2569                                            937.0   \n",
      "2570                                            937.0   \n",
      "2571                                            937.0   \n",
      "\n",
      "     additional_pharmaceutical_therapy  \\\n",
      "0                                  YES   \n",
      "1                                  YES   \n",
      "2                                  YES   \n",
      "3                                  YES   \n",
      "4                                  YES   \n",
      "...                                ...   \n",
      "2567                               YES   \n",
      "2568                               YES   \n",
      "2569                                NO   \n",
      "2570                                NO   \n",
      "2571                                NO   \n",
      "\n",
      "     new_tumor_event_additional_surgery_procedure  \\\n",
      "0                                              NO   \n",
      "1                                              NO   \n",
      "2                                             YES   \n",
      "3                                             YES   \n",
      "4                                             YES   \n",
      "...                                           ...   \n",
      "2567                                           NO   \n",
      "2568                                           NO   \n",
      "2569                                           NO   \n",
      "2570                                           NO   \n",
      "2571                                           NO   \n",
      "\n",
      "     history_of_neoadjuvant_treatment  \n",
      "0                                 Yes  \n",
      "1                                 Yes  \n",
      "2                                  No  \n",
      "3                                  No  \n",
      "4                                  No  \n",
      "...                               ...  \n",
      "2567                               No  \n",
      "2568                               No  \n",
      "2569                               No  \n",
      "2570                               No  \n",
      "2571                               No  \n",
      "\n",
      "[2087 rows x 14 columns]\n"
     ]
    }
   ],
   "execution_count": 25
  },
  {
   "metadata": {
    "ExecuteTime": {
     "end_time": "2025-02-05T10:40:23.854716Z",
     "start_time": "2025-02-05T10:40:23.790468Z"
    }
   },
   "cell_type": "code",
   "source": "df.columns",
   "id": "4c4c1ef5ff66e826",
   "outputs": [
    {
     "data": {
      "text/plain": [
       "Index(['Cancer', 'bcr_patient_barcode', 'drug_name', 'DrugBank ID',\n",
       "       'measure_of_response', 'days_to_drug_therapy_start',\n",
       "       'days_to_drug_therapy_end', 'days_to_initial_pathologic_diagnosis',\n",
       "       'method_of_sample_procurement', 'days_to_sample_procurement',\n",
       "       'days_to_new_tumor_event_after_initial_treatment',\n",
       "       'additional_pharmaceutical_therapy',\n",
       "       'new_tumor_event_additional_surgery_procedure',\n",
       "       'history_of_neoadjuvant_treatment'],\n",
       "      dtype='object')"
      ]
     },
     "execution_count": 31,
     "metadata": {},
     "output_type": "execute_result"
    }
   ],
   "execution_count": 31
  },
  {
   "metadata": {
    "ExecuteTime": {
     "end_time": "2025-02-03T08:27:01.539883Z",
     "start_time": "2025-02-03T08:27:01.535680Z"
    }
   },
   "cell_type": "code",
   "source": "df.rename(columns={'drug_name': 'pharmaceutical_therapy_drug_name'}, inplace=True)\n",
   "id": "294fe6d4aea3d053",
   "outputs": [],
   "execution_count": 16
  },
  {
   "metadata": {
    "ExecuteTime": {
     "end_time": "2025-02-03T08:27:04.362163Z",
     "start_time": "2025-02-03T08:27:04.357185Z"
    }
   },
   "cell_type": "code",
   "source": "df.rename(columns={'bcr_patient_barcode': 'bcr_patient_uuid'}, inplace=True)",
   "id": "82c68ef55423642",
   "outputs": [],
   "execution_count": 17
  },
  {
   "metadata": {
    "ExecuteTime": {
     "end_time": "2025-02-03T08:24:26.286914Z",
     "start_time": "2025-02-03T08:24:26.276668Z"
    }
   },
   "cell_type": "code",
   "source": [
    "unique_patients = df['bcr_patient_uuid'].nunique()\n",
    "print(f\"Number of unique patients (by UUID): {unique_patients}\")\n",
    "\n",
    "pharmaceutical_therapy_drug_name = df['pharmaceutical_therapy_drug_name'].unique()\n",
    "print(f'pharmaceutical_therapy_drug_name shape:{pharmaceutical_therapy_drug_name.shape}')\n",
    "print(\"\\nUnique pharmaceutical drug type Names:\\n\", pharmaceutical_therapy_drug_name)\n",
    "\n",
    "measure_of_response = df['measure_of_response'].unique()\n",
    "print(f'treatment_best_response shape:{measure_of_response.shape}')\n",
    "print(\"\\nUnique treatment best response:\\n\", measure_of_response)\n",
    "cancer_type = df['Cancer'].unique()\n",
    "print(f'Cancer types:{cancer_type.shape}')\n",
    "print(\"\\nUnique cancer types:\\n\", cancer_type)\n"
   ],
   "id": "9ea551c41a1a7bad",
   "outputs": [
    {
     "name": "stdout",
     "output_type": "stream",
     "text": [
      "Number of unique patients (by UUID): 1197\n",
      "pharmaceutical_therapy_drug_name shape:(152,)\n",
      "\n",
      "Unique pharmaceutical drug type Names:\n",
      " ['Sunitinib' 'Ketoconazole' 'Etoposide' 'Doxorubicin' 'Cisplatin'\n",
      " 'Mitotane' 'Carboplatin' 'Streptozocin' 'Bevacizumab' 'Sorafenib'\n",
      " 'Methotrexate' 'Vinblastine' 'Paclitaxel' 'Mycophenolic acid'\n",
      " 'Ifosfamide' 'Gemcitabine' 'Docetaxel' 'Bacillus Calmette-Guerin (BCG)'\n",
      " 'Fluorouracil' 'Erlotinib' 'E7389' 'Platinum' 'BCG'\n",
      " 'Docetaxel +/- Zactima' 'Tamoxifen' 'Cyclophosphamide' 'Pamidronate'\n",
      " 'Leuprolide' 'Trastuzumab' 'Anastrozole' 'Goserelin' 'Epirubicin'\n",
      " 'Letrozole' 'Megestrol acetate' 'Trabectedin' 'Ixabepilone' 'Lapatinib'\n",
      " 'Vinorelbine' 'Capecitabine' 'Mitoxantrone' 'Denosumab' 'Exemestane'\n",
      " 'Fulvestrant' 'Pegfilgrastim' 'Poly E' 'Bleomycin' 'Vincristine'\n",
      " 'Mitomycin' 'Hydrocortisone' 'Topotecan' 'Oxaliplatin' 'Irinotecan'\n",
      " 'Leucovorin' 'FOLFOX' 'Folfiri' 'Folfox' 'Cetuximab' 'Panitumumab'\n",
      " 'Regorafenib' 'veliparib' 'Cabozantinib' 'Temozolomide' 'Vorinostat'\n",
      " 'HSC vaccine injection'\n",
      " 'anti-A5B1 integrin monoclonal antibody PF-04605412' 'Pemetrexed'\n",
      " 'rigosertib' 'px-866' 'Zoledronate' 'Axitinib' 'Infliximab' 'Aldesleukin'\n",
      " 'Thalidomide' 'Tyrosine kinase inhibitor' 'Temsirolimus' 'Pazopanib'\n",
      " 'Everolimus' 'Rituximab' 'Carmustine' 'Lomustine' 'Procarbazine'\n",
      " 'Themozolomide' 'Fotemustine' 'Cilengtide' 'Hydroxyurea' 'Imatinib'\n",
      " 'iodine I 131 monoclonal antibody 81C6' 'Nilutamide'\n",
      " 'Everolimus, Gemcitabine, and Cisplatin' 'doxorubicin/cyclophosphamide'\n",
      " 'Alverine' 'LY228820' 'Chemo, NOS' 'Chemo, Multi-Agent, NOS' 'Gefitinib'\n",
      " 'Dasatinib' 'AZD2171' 'R1507'\n",
      " 'cyclophosphamide, vincristine, and dacarbazine' 'Dacarbazine'\n",
      " 'Bicalutamide' 'Degarelix' 'Cabazitaxel' 'Trelstar' 'triptorelin'\n",
      " 'ridaforolimus' 'EZN-2968' 'Enoticumab' 'Threshold-302' 'Sulindac'\n",
      " 'Raloxifene' 'GP-100' 'recMAGE- A3' 'Interferon alfa-n1' 'MEL-44'\n",
      " 'Dabrafenib' 'Yervoy' 'Trametinib' 'Ipilimumab' 'Vemurafenib'\n",
      " 'PNU-159548' 'Cancer Vax'\n",
      " 'anti-endosialin/TEM1 monoclonal antibody MORAb-004' 'autologous vaccine'\n",
      " 'BRAF inhibitor' 'PI-88' 'Interferon alfacon-1' 'Dactinomycin'\n",
      " 'Melphalan' 'GP100' 'Resiquimod' 'Toremifene' 'Sargramostim'\n",
      " 'Ondansetron' 'Dexamethasone' 'Epoetin alfa' 'Cyclosporine' 'RenAmin'\n",
      " 'recombinant interferon-∥2b' 'Talimogene Laherparepvec (T-VEC)'\n",
      " 'nivolumab' 'Polyplatillen' 'Didox' 'Copolang' 'Eribulin'\n",
      " 'Methylprednisolone' 'COPOLANG CAPS'\n",
      " 'tegafur-gimeracil-oteracil potassium' 'Ifosfamid' 'Gemox'\n",
      " 'Levothyroxine' 'Liothyronine']\n",
      "treatment_best_response shape:(4,)\n",
      "\n",
      "Unique treatment best response:\n",
      " ['Clinical Progressive Disease' 'Stable Disease' 'Partial Response'\n",
      " 'Complete Response']\n",
      "Cancer types:(28,)\n",
      "\n",
      "Unique cancer types:\n",
      " ['Adrenocortical carcinoma (ACC)' 'Bladder Urothelial Carcinoma (BLCA)'\n",
      " 'Breast invasive carcinoma (BRCA)'\n",
      " 'Cervical squamous cell carcinoma and endocervical adenocarcinoma (CESC)'\n",
      " 'Colon adenocarcinoma (COAD)' 'Esophageal carcinoma (ESCA)'\n",
      " 'Glioblastoma multiforme (GBM)'\n",
      " 'Head and Neck squamous cell carcinoma (HNSC)'\n",
      " 'Kidney Chromophobe (KICH)' 'Kidney renal clear cell carcinoma (KIRC)'\n",
      " 'Kidney renal papillary cell carcinoma (KIRP)'\n",
      " 'Brain Lower Grade Glioma (LGG)' 'Liver hepatocellular carcinoma (LIHC)'\n",
      " 'Lung adenocarcinoma (LUAD)' 'Lung squamous cell carcinoma (LUSC)'\n",
      " 'Mesothelioma (MESO)' 'Ovarian serous cystadenocarcinoma (OV)'\n",
      " 'Pancreatic adenocarcinoma (PAAD)'\n",
      " 'Pheochromocytoma and Paraganglioma (PCPG)'\n",
      " 'Prostate adenocarcinoma (PRAD)' 'Rectum adenocarcinoma (READ)'\n",
      " 'Sarcoma (SARC)' 'Skin Cutaneous Melanoma (SKCM)'\n",
      " 'Stomach adenocarcinoma (STAD)' 'Testicular Germ Cell Tumors (TGCT)'\n",
      " 'Thyroid carcinoma (THCA)' 'Uterine Corpus Endometrial Carcinoma (UCEC)'\n",
      " 'Uterine Carcinosarcoma (UCS)']\n"
     ]
    }
   ],
   "execution_count": 6
  },
  {
   "metadata": {
    "ExecuteTime": {
     "end_time": "2025-02-03T08:27:10.751873Z",
     "start_time": "2025-02-03T08:27:10.746464Z"
    }
   },
   "cell_type": "code",
   "source": "df.columns",
   "id": "b9a9cbea99d7f6e5",
   "outputs": [
    {
     "data": {
      "text/plain": [
       "Index(['Cancer', 'bcr_patient_uuid', 'pharmaceutical_therapy_drug_name',\n",
       "       'DrugBank ID', 'measure_of_response', 'days_to_drug_therapy_start',\n",
       "       'days_to_drug_therapy_end', 'days_to_initial_pathologic_diagnosis',\n",
       "       'method_of_sample_procurement', 'days_to_sample_procurement',\n",
       "       'days_to_new_tumor_event_after_initial_treatment',\n",
       "       'additional_pharmaceutical_therapy',\n",
       "       'new_tumor_event_additional_surgery_procedure',\n",
       "       'history_of_neoadjuvant_treatment'],\n",
       "      dtype='object')"
      ]
     },
     "execution_count": 18,
     "metadata": {},
     "output_type": "execute_result"
    }
   ],
   "execution_count": 18
  },
  {
   "metadata": {
    "ExecuteTime": {
     "end_time": "2025-02-03T08:27:15.511911Z",
     "start_time": "2025-02-03T08:27:15.276287Z"
    }
   },
   "cell_type": "code",
   "source": [
    "qa_pairs = []\n",
    "qa_pairs = generate_cancer_questions(df, qa_pairs)\n",
    "qa_pairs = generate_drug_outcome_questions(df, qa_pairs)\n"
   ],
   "id": "45f5a06de3184379",
   "outputs": [],
   "execution_count": 19
  },
  {
   "metadata": {
    "ExecuteTime": {
     "end_time": "2025-02-03T08:27:21.483190Z",
     "start_time": "2025-02-03T08:27:21.325114Z"
    }
   },
   "cell_type": "code",
   "source": [
    "qa_pairs = generate_drug_questions(df, qa_pairs)\n",
    "df = pd.DataFrame(qa_pairs, columns=['Patient_ID', 'Question', 'Answer'])\n",
    "save_qa_pairs(df, 'drug_qa_pairs_all_cancer.csv')"
   ],
   "id": "2ac6ae29f80a5ae0",
   "outputs": [
    {
     "name": "stdout",
     "output_type": "stream",
     "text": [
      "Generated 7021 question-answer pairs\n"
     ]
    }
   ],
   "execution_count": 20
  }
 ],
 "metadata": {
  "kernelspec": {
   "display_name": "Python 3",
   "language": "python",
   "name": "python3"
  },
  "language_info": {
   "codemirror_mode": {
    "name": "ipython",
    "version": 2
   },
   "file_extension": ".py",
   "mimetype": "text/x-python",
   "name": "python",
   "nbconvert_exporter": "python",
   "pygments_lexer": "ipython2",
   "version": "2.7.6"
  }
 },
 "nbformat": 4,
 "nbformat_minor": 5
}
