{
 "cells": [
  {
   "cell_type": "code",
   "id": "initial_id",
   "metadata": {
    "collapsed": true,
    "ExecuteTime": {
     "end_time": "2025-02-05T11:00:09.846619Z",
     "start_time": "2025-02-05T11:00:09.842477Z"
    }
   },
   "source": [
    "import pandas as pd\n",
    "import random"
   ],
   "outputs": [],
   "execution_count": 2
  },
  {
   "metadata": {
    "ExecuteTime": {
     "end_time": "2025-02-05T11:00:11.999725Z",
     "start_time": "2025-02-05T11:00:11.660324Z"
    }
   },
   "cell_type": "code",
   "source": "target_df = pd.read_csv('process_data/target_data.csv')",
   "id": "c28470a56a1aad23",
   "outputs": [],
   "execution_count": 3
  },
  {
   "metadata": {
    "ExecuteTime": {
     "end_time": "2025-02-05T11:00:13.529264Z",
     "start_time": "2025-02-05T11:00:13.521689Z"
    }
   },
   "cell_type": "code",
   "source": "target_df.columns",
   "id": "4f1ea0b050e15596",
   "outputs": [
    {
     "data": {
      "text/plain": [
       "Index(['bcr_patient_uuid', 'pharmaceutical_therapy_drug_name',\n",
       "       'pharmaceutical_therapy_type', 'treatment_outcome_at_tcga_followup',\n",
       "       'vital_status_x', 'tumor_status_x', 'followup_reason',\n",
       "       'treatment_outcome_first_course_x', 'death_days_to_x', 'gender',\n",
       "       'age_at_initial_pathologic_diagnosis', 'icd_10', 'tumor_tissue_site',\n",
       "       'death_days_to_x.1'],\n",
       "      dtype='object')"
      ]
     },
     "execution_count": 4,
     "metadata": {},
     "output_type": "execute_result"
    }
   ],
   "execution_count": 4
  },
  {
   "metadata": {
    "ExecuteTime": {
     "end_time": "2025-02-05T11:00:23.938559Z",
     "start_time": "2025-02-05T11:00:23.931015Z"
    }
   },
   "cell_type": "code",
   "source": "target_df = target_df.drop_duplicates()",
   "id": "a9702e0acbaee63c",
   "outputs": [],
   "execution_count": 7
  },
  {
   "metadata": {
    "ExecuteTime": {
     "end_time": "2025-02-05T11:00:26.374468Z",
     "start_time": "2025-02-05T11:00:26.369798Z"
    }
   },
   "cell_type": "code",
   "source": "target_df.shape",
   "id": "d7318f7e57c9ccd5",
   "outputs": [
    {
     "data": {
      "text/plain": [
       "(1887, 14)"
      ]
     },
     "execution_count": 8,
     "metadata": {},
     "output_type": "execute_result"
    }
   ],
   "execution_count": 8
  },
  {
   "metadata": {
    "ExecuteTime": {
     "end_time": "2025-02-05T11:02:39.100418Z",
     "start_time": "2025-02-05T11:02:39.094609Z"
    }
   },
   "cell_type": "code",
   "source": "target_df['vital_status_x'].unique()",
   "id": "db8d7f740f32c1f9",
   "outputs": [
    {
     "data": {
      "text/plain": [
       "array(['Dead', 'Alive', nan], dtype=object)"
      ]
     },
     "execution_count": 17,
     "metadata": {},
     "output_type": "execute_result"
    }
   ],
   "execution_count": 17
  },
  {
   "metadata": {
    "ExecuteTime": {
     "end_time": "2025-02-05T11:17:14.270685Z",
     "start_time": "2025-02-05T11:17:14.265743Z"
    }
   },
   "cell_type": "code",
   "source": [
    "def generate_drug_vital_questions(df, qa_pairs):\n",
    "    for index, row in df.iterrows():\n",
    "        patient_id = row['bcr_patient_uuid']\n",
    "        drug = row['pharmaceutical_therapy_drug_name']\n",
    "        therapy = row['pharmaceutical_therapy_type']\n",
    "        vital_status = row['vital_status_x']\n",
    "        if pd.notna(drug) and pd.notna(therapy):\n",
    "            question = f\"What is the vital status of the patient treated with {drug} and therapy {therapy}?\"\n",
    "            answer = f'Given the features present in this image, the patient will most likely {str(vital_status).lower()}'\n",
    "            qa_pairs.append((patient_id, question, answer))\n",
    "    return qa_pairs"
   ],
   "id": "7706b1d530a8298a",
   "outputs": [],
   "execution_count": 23
  },
  {
   "metadata": {
    "ExecuteTime": {
     "end_time": "2025-02-05T11:18:17.972458Z",
     "start_time": "2025-02-05T11:18:17.968016Z"
    }
   },
   "cell_type": "code",
   "source": [
    "def generate_drug_questions(df, qa_pairs):\n",
    "    for index, row in df.iterrows():\n",
    "        patient_id = row['bcr_patient_uuid']\n",
    "        drug = row['pharmaceutical_therapy_drug_name']\n",
    "        therapy = row['pharmaceutical_therapy_type']\n",
    "        age = row['age_at_initial_pathologic_diagnosis']\n",
    "        gender = row['gender']\n",
    "        vital_status = row['vital_status_x']\n",
    "        if pd.notna(drug):\n",
    "            question = f\"What drug was prescribed to the patient?\"\n",
    "            answer = f'Given the features present in this image, the patient will most likely {str(drug).lower()}'\n",
    "            qa_pairs.append((patient_id, question, answer))\n",
    "        if pd.notna(therapy):\n",
    "            question = \"What therapy is prescribed to the patient?\"\n",
    "            answer = f'Given the features present in this image, the patient will most likely respond best to {str(therapy).lower()}'\n",
    "            qa_pairs.append((patient_id, question, answer))\n",
    "        if pd.notna(drug) and pd.notna(age) and vital_status == 'Alive':\n",
    "            question = f\"What therapy and drug will be best prescribed to the patient at {age} and {str(gender).lower()} ?\"\n",
    "            answer = f'Given the features present in this image, the patient will most likely respond best to {str(drug).lower()} and {str(therapy).lower()}'\n",
    "            qa_pairs.append((patient_id, question, answer))\n",
    "\n",
    "    return qa_pairs\n",
    "\n",
    "\n"
   ],
   "id": "dfe408f887d8edd1",
   "outputs": [],
   "execution_count": 33
  },
  {
   "metadata": {
    "ExecuteTime": {
     "end_time": "2025-02-05T19:34:28.748404Z",
     "start_time": "2025-02-05T19:34:28.730296Z"
    }
   },
   "cell_type": "code",
   "source": [
    "def generate_drug_multiple_choice_questions(df, qa_pairs):\n",
    "    for index, row in df.iterrows():\n",
    "        patient_id = row['bcr_patient_uuid']\n",
    "        drug = row['pharmaceutical_therapy_drug_name']\n",
    "        therapy = row['pharmaceutical_therapy_type']\n",
    "\n",
    "        # Multiple-choice question for drug\n",
    "        if pd.notna(drug):\n",
    "            drug_choices = df['pharmaceutical_therapy_drug_name'].dropna().unique().tolist()\n",
    "            drug_distractors = random.sample([d for d in drug_choices if d != drug], min(2, len(drug_choices)-1))\n",
    "            choices = [drug] + drug_distractors + [\"None\"]\n",
    "            random.shuffle(choices)\n",
    "\n",
    "            mc_question = f\"What drug was prescribed to the patient? Choices: {', '.join(choices)}\"\n",
    "            mc_answer = f\"The prescribed drug for the patient is {drug}.\"\n",
    "            qa_pairs.append((patient_id, mc_question, {\"choices\": choices, \"answer\": mc_answer}))\n",
    "\n",
    "        # Multiple-choice question when no drug is prescribed\n",
    "        if pd.isna(drug):\n",
    "            drug_choices = df['pharmaceutical_therapy_drug_name'].dropna().unique().tolist()\n",
    "            drug_distractors = random.sample(drug_choices, min(2, len(drug_choices)))\n",
    "            choices = drug_distractors + [\"None\"]\n",
    "            random.shuffle(choices)\n",
    "\n",
    "            mc_question = f\"What drug was prescribed to the patient? Choices: {', '.join(choices)}\"\n",
    "            mc_answer = \"No drug was prescribed to the patient.\"\n",
    "            qa_pairs.append((patient_id, mc_question, {\"choices\": choices, \"answer\": mc_answer}))\n",
    "\n",
    "        # Multiple-choice question for therapy\n",
    "        if pd.notna(therapy):\n",
    "            therapy_choices = df['pharmaceutical_therapy_type'].dropna().unique().tolist()\n",
    "            therapy_distractors = random.sample([t for t in therapy_choices if t != therapy], min(2, len(therapy_choices)-1))\n",
    "            choices = [therapy] + therapy_distractors + [\"None\"]\n",
    "            random.shuffle(choices)\n",
    "\n",
    "            mc_question = f\"What type of therapy is prescribed to the patient? Choices: {', '.join(choices)}\"\n",
    "            mc_answer = f\"The prescribed therapy for the patient is {therapy}.\"\n",
    "            qa_pairs.append((patient_id, mc_question, {\"choices\": choices, \"answer\": mc_answer}))\n",
    "\n",
    "        # Combination multiple-choice question for drug and therapy\n",
    "        if pd.notna(drug) and pd.notna(therapy):\n",
    "            drug_choices = df['pharmaceutical_therapy_drug_name'].dropna().unique().tolist()\n",
    "            therapy_choices = df['pharmaceutical_therapy_type'].dropna().unique().tolist()\n",
    "            combo_answer = f\"{drug} and {therapy}\"\n",
    "\n",
    "            distractor_combos = [\n",
    "                                    f\"{random.choice(drug_choices)} and {random.choice(therapy_choices)}\" for _ in range(2)\n",
    "                                ] + [\"None\"]\n",
    "            choices = [combo_answer] + distractor_combos\n",
    "            random.shuffle(choices)\n",
    "\n",
    "            mc_question = f\"Which combination of drug and therapy is prescribed to the patient? Choices: {', '.join(choices)}\"\n",
    "            mc_answer = f\"The prescribed treatment includes the drug {drug} along with {therapy}.\"\n",
    "            qa_pairs.append((patient_id, mc_question, {\"choices\": choices, \"answer\": mc_answer}))\n",
    "\n",
    "    return qa_pairs"
   ],
   "id": "9b5c9dbd156d1361",
   "outputs": [],
   "execution_count": 38
  },
  {
   "metadata": {
    "ExecuteTime": {
     "end_time": "2025-02-05T11:17:23.543854Z",
     "start_time": "2025-02-05T11:17:23.539502Z"
    }
   },
   "cell_type": "code",
   "source": [
    "def generate_tumor_questions(df, qa_pairs):\n",
    "    for index, row in df.iterrows():\n",
    "        patient_id = row['bcr_patient_uuid']\n",
    "        tumor_location = row['tumor_tissue_site']\n",
    "\n",
    "        if pd.notna(tumor_location):\n",
    "            question = f\"What site is this tumor located?\"\n",
    "            answer = tumor_location\n",
    "            qa_pairs.append((patient_id, question, answer))\n",
    "\n",
    "    return qa_pairs"
   ],
   "id": "3d64d9131c872ea4",
   "outputs": [],
   "execution_count": 26
  },
  {
   "metadata": {
    "ExecuteTime": {
     "end_time": "2025-02-05T19:35:17.680450Z",
     "start_time": "2025-02-05T19:35:17.676479Z"
    }
   },
   "cell_type": "code",
   "source": [
    "def save_qa_pairs(qa_pairs_df, output_file='drug_qa_pairs.csv'):\n",
    "    qa_pairs_df.to_csv(output_file, index=False)\n",
    "    print(f\"Generated {len(qa_pairs)} question-answer pairs\")"
   ],
   "id": "2df661a84cecdbc",
   "outputs": [],
   "execution_count": 42
  },
  {
   "metadata": {
    "ExecuteTime": {
     "end_time": "2025-02-05T11:18:23.305Z",
     "start_time": "2025-02-05T11:18:23.299866Z"
    }
   },
   "cell_type": "code",
   "source": "qa_pairs = []",
   "id": "3c21c46c669a232b",
   "outputs": [],
   "execution_count": 34
  },
  {
   "metadata": {
    "ExecuteTime": {
     "end_time": "2025-02-05T11:18:24.716060Z",
     "start_time": "2025-02-05T11:18:24.630836Z"
    }
   },
   "cell_type": "code",
   "source": "qa_pairs = generate_tumor_questions(target_df, qa_pairs)",
   "id": "c5b45f0d36e48cb3",
   "outputs": [],
   "execution_count": 35
  },
  {
   "metadata": {
    "ExecuteTime": {
     "end_time": "2025-02-05T11:18:25.757596Z",
     "start_time": "2025-02-05T11:18:25.668802Z"
    }
   },
   "cell_type": "code",
   "source": "qa_pairs = generate_drug_vital_questions(target_df, qa_pairs)",
   "id": "1b98f1f512ad3a61",
   "outputs": [],
   "execution_count": 36
  },
  {
   "metadata": {
    "ExecuteTime": {
     "end_time": "2025-02-05T11:18:28.062585Z",
     "start_time": "2025-02-05T11:18:27.937693Z"
    }
   },
   "cell_type": "code",
   "source": "qa_pairs = generate_drug_questions(target_df, qa_pairs)",
   "id": "58ce796c175a6f82",
   "outputs": [],
   "execution_count": 37
  },
  {
   "metadata": {
    "ExecuteTime": {
     "end_time": "2025-02-05T19:34:41.873016Z",
     "start_time": "2025-02-05T19:34:39.524502Z"
    }
   },
   "cell_type": "code",
   "source": "qa_pairs = generate_drug_multiple_choice_questions(target_df, qa_pairs)",
   "id": "7dbb755329bd5692",
   "outputs": [],
   "execution_count": 39
  },
  {
   "metadata": {
    "ExecuteTime": {
     "end_time": "2025-02-05T19:34:45.884263Z",
     "start_time": "2025-02-05T19:34:45.821406Z"
    }
   },
   "cell_type": "code",
   "source": "df = pd.DataFrame(qa_pairs, columns=['Patient_ID', 'Question', 'Answer'])",
   "id": "9840a8801136bca",
   "outputs": [],
   "execution_count": 40
  },
  {
   "metadata": {
    "ExecuteTime": {
     "end_time": "2025-02-05T19:35:22.158910Z",
     "start_time": "2025-02-05T19:35:21.688419Z"
    }
   },
   "cell_type": "code",
   "source": "save_qa_pairs(df, 'drug_qa_pairs_with_mcq_descriptive.csv')",
   "id": "175ad658f02a9f25",
   "outputs": [
    {
     "name": "stdout",
     "output_type": "stream",
     "text": [
      "Generated 13758 question-answer pairs\n"
     ]
    }
   ],
   "execution_count": 43
  },
  {
   "metadata": {
    "ExecuteTime": {
     "end_time": "2025-02-05T19:35:26.788042Z",
     "start_time": "2025-02-05T19:35:26.700655Z"
    }
   },
   "cell_type": "code",
   "source": "df.tail()",
   "id": "6c5a72d1b01adb5",
   "outputs": [
    {
     "data": {
      "text/plain": [
       "                                 Patient_ID  \\\n",
       "13753  284680B2-F961-402D-8740-E5F9E4FB4A98   \n",
       "13754  284680B2-F961-402D-8740-E5F9E4FB4A98   \n",
       "13755  42156C6A-416E-4832-9C95-CEE6084B0910   \n",
       "13756  42156C6A-416E-4832-9C95-CEE6084B0910   \n",
       "13757  42156C6A-416E-4832-9C95-CEE6084B0910   \n",
       "\n",
       "                                                Question  \\\n",
       "13753  What type of therapy is prescribed to the pati...   \n",
       "13754  Which combination of drug and therapy is presc...   \n",
       "13755  What drug was prescribed to the patient? Choic...   \n",
       "13756  What type of therapy is prescribed to the pati...   \n",
       "13757  Which combination of drug and therapy is presc...   \n",
       "\n",
       "                                                  Answer  \n",
       "13753  {'choices': ['Immunotherapy', 'Hormone Therapy...  \n",
       "13754  {'choices': ['Cloretazine and Hormone Therapy'...  \n",
       "13755  {'choices': ['Temodar', 'IL-13 with Pseudomona...  \n",
       "13756  {'choices': ['None', 'Hormone Therapy', 'Ancil...  \n",
       "13757  {'choices': ['None', 'Imatinib and Targeted Mo...  "
      ],
      "text/html": [
       "<div>\n",
       "<style scoped>\n",
       "    .dataframe tbody tr th:only-of-type {\n",
       "        vertical-align: middle;\n",
       "    }\n",
       "\n",
       "    .dataframe tbody tr th {\n",
       "        vertical-align: top;\n",
       "    }\n",
       "\n",
       "    .dataframe thead th {\n",
       "        text-align: right;\n",
       "    }\n",
       "</style>\n",
       "<table border=\"1\" class=\"dataframe\">\n",
       "  <thead>\n",
       "    <tr style=\"text-align: right;\">\n",
       "      <th></th>\n",
       "      <th>Patient_ID</th>\n",
       "      <th>Question</th>\n",
       "      <th>Answer</th>\n",
       "    </tr>\n",
       "  </thead>\n",
       "  <tbody>\n",
       "    <tr>\n",
       "      <th>13753</th>\n",
       "      <td>284680B2-F961-402D-8740-E5F9E4FB4A98</td>\n",
       "      <td>What type of therapy is prescribed to the pati...</td>\n",
       "      <td>{'choices': ['Immunotherapy', 'Hormone Therapy...</td>\n",
       "    </tr>\n",
       "    <tr>\n",
       "      <th>13754</th>\n",
       "      <td>284680B2-F961-402D-8740-E5F9E4FB4A98</td>\n",
       "      <td>Which combination of drug and therapy is presc...</td>\n",
       "      <td>{'choices': ['Cloretazine and Hormone Therapy'...</td>\n",
       "    </tr>\n",
       "    <tr>\n",
       "      <th>13755</th>\n",
       "      <td>42156C6A-416E-4832-9C95-CEE6084B0910</td>\n",
       "      <td>What drug was prescribed to the patient? Choic...</td>\n",
       "      <td>{'choices': ['Temodar', 'IL-13 with Pseudomona...</td>\n",
       "    </tr>\n",
       "    <tr>\n",
       "      <th>13756</th>\n",
       "      <td>42156C6A-416E-4832-9C95-CEE6084B0910</td>\n",
       "      <td>What type of therapy is prescribed to the pati...</td>\n",
       "      <td>{'choices': ['None', 'Hormone Therapy', 'Ancil...</td>\n",
       "    </tr>\n",
       "    <tr>\n",
       "      <th>13757</th>\n",
       "      <td>42156C6A-416E-4832-9C95-CEE6084B0910</td>\n",
       "      <td>Which combination of drug and therapy is presc...</td>\n",
       "      <td>{'choices': ['None', 'Imatinib and Targeted Mo...</td>\n",
       "    </tr>\n",
       "  </tbody>\n",
       "</table>\n",
       "</div>"
      ]
     },
     "execution_count": 44,
     "metadata": {},
     "output_type": "execute_result"
    }
   ],
   "execution_count": 44
  }
 ],
 "metadata": {
  "kernelspec": {
   "display_name": "Python 3",
   "language": "python",
   "name": "python3"
  },
  "language_info": {
   "codemirror_mode": {
    "name": "ipython",
    "version": 2
   },
   "file_extension": ".py",
   "mimetype": "text/x-python",
   "name": "python",
   "nbconvert_exporter": "python",
   "pygments_lexer": "ipython2",
   "version": "2.7.6"
  }
 },
 "nbformat": 4,
 "nbformat_minor": 5
}
