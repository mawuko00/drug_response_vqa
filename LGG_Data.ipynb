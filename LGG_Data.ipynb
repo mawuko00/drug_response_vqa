{
 "cells": [
  {
   "metadata": {
    "ExecuteTime": {
     "end_time": "2025-01-13T07:17:45.174415Z",
     "start_time": "2025-01-13T07:17:45.171805Z"
    }
   },
   "cell_type": "code",
   "source": [
    "import os\n",
    "import tarfile\n",
    "import pandas as pd\n",
    "import matplotlib.pyplot as plt"
   ],
   "id": "fbe97a1485c5dcc5",
   "outputs": [],
   "execution_count": 1
  },
  {
   "cell_type": "code",
   "id": "initial_id",
   "metadata": {
    "collapsed": true,
    "ExecuteTime": {
     "end_time": "2025-01-13T07:49:20.862356Z",
     "start_time": "2025-01-13T07:49:20.762337Z"
    }
   },
   "source": [
    "file1_path = \"raw_data/extracted_drug_response_files/c1f6276e-6e34-4c18-b599-88ffe9ad20bc/nationwidechildrens.org_clinical_drug_lgg.txt\"\n",
    "df1 = pd.read_csv(file1_path, sep='\\t')\n"
   ],
   "outputs": [],
   "execution_count": 44
  },
  {
   "metadata": {
    "ExecuteTime": {
     "end_time": "2025-01-13T07:49:34.075539Z",
     "start_time": "2025-01-13T07:49:34.070926Z"
    }
   },
   "cell_type": "code",
   "source": "print(f\"df1 shape{df1.shape} \")\n",
   "id": "5ec715ad1797c0b2",
   "outputs": [
    {
     "name": "stdout",
     "output_type": "stream",
     "text": [
      "df1 shape(697, 28) \n"
     ]
    }
   ],
   "execution_count": 46
  },
  {
   "metadata": {
    "ExecuteTime": {
     "end_time": "2025-01-13T07:49:37.758559Z",
     "start_time": "2025-01-13T07:49:37.745996Z"
    }
   },
   "cell_type": "code",
   "source": "df1.to_csv('raw_data/extracted_drug_response_files/lgg.csv', index=False)",
   "id": "55031ff5694ff758",
   "outputs": [],
   "execution_count": 47
  },
  {
   "metadata": {
    "ExecuteTime": {
     "end_time": "2025-01-13T08:39:34.249324Z",
     "start_time": "2025-01-13T08:39:34.235665Z"
    }
   },
   "cell_type": "code",
   "source": "drug_response_df = pd.read_csv('raw_data/extracted_drug_response_files/lgg.csv')",
   "id": "662fb3800a70e2a9",
   "outputs": [],
   "execution_count": 64
  },
  {
   "metadata": {
    "ExecuteTime": {
     "end_time": "2025-01-13T07:50:27.590617Z",
     "start_time": "2025-01-13T07:50:27.586415Z"
    }
   },
   "cell_type": "code",
   "source": "drug_response_df.shape",
   "id": "d2dad2e26467df5d",
   "outputs": [
    {
     "data": {
      "text/plain": [
       "(695, 28)"
      ]
     },
     "execution_count": 49,
     "metadata": {},
     "output_type": "execute_result"
    }
   ],
   "execution_count": 49
  },
  {
   "metadata": {
    "ExecuteTime": {
     "end_time": "2025-01-13T07:50:29.058588Z",
     "start_time": "2025-01-13T07:50:29.053318Z"
    }
   },
   "cell_type": "code",
   "source": "drug_response_df.isnull().sum()",
   "id": "961f11ee516af10f",
   "outputs": [
    {
     "data": {
      "text/plain": [
       "bcr_patient_uuid                       0\n",
       "bcr_patient_barcode                    0\n",
       "bcr_drug_barcode                       0\n",
       "bcr_drug_uuid                          0\n",
       "form_completion_date                   0\n",
       "pharmaceutical_therapy_drug_name       0\n",
       "clinical_trial_drug_classification     0\n",
       "pharmaceutical_therapy_type            0\n",
       "pharmaceutical_tx_started_days_to      0\n",
       "pharmaceutical_tx_ongoing_indicator    0\n",
       "pharmaceutical_tx_ended_days_to        0\n",
       "treatment_best_response                0\n",
       "days_to_stem_cell_transplantation      0\n",
       "pharm_regimen                          0\n",
       "pharm_regimen_other                    0\n",
       "pharma_adjuvant_cycles_count           0\n",
       "pharma_type_other                      0\n",
       "pharmaceutical_tx_dose_units           0\n",
       "pharmaceutical_tx_total_dose_units     0\n",
       "prescribed_dose                        0\n",
       "regimen_number                         0\n",
       "route_of_administration                0\n",
       "stem_cell_transplantation              0\n",
       "stem_cell_transplantation_type         0\n",
       "therapy_regimen                        0\n",
       "therapy_regimen_other                  0\n",
       "total_dose                             0\n",
       "tx_on_clinical_trial                   0\n",
       "dtype: int64"
      ]
     },
     "execution_count": 50,
     "metadata": {},
     "output_type": "execute_result"
    }
   ],
   "execution_count": 50
  },
  {
   "metadata": {
    "ExecuteTime": {
     "end_time": "2025-01-13T07:50:30.250817Z",
     "start_time": "2025-01-13T07:50:30.245370Z"
    }
   },
   "cell_type": "code",
   "source": [
    "unique_patients = drug_response_df['bcr_patient_uuid'].nunique()\n",
    "print(f\"Number of unique patients (by UUID): {unique_patients}\")"
   ],
   "id": "e7851a1fb00c98b6",
   "outputs": [
    {
     "name": "stdout",
     "output_type": "stream",
     "text": [
      "Number of unique patients (by UUID): 285\n"
     ]
    }
   ],
   "execution_count": 51
  },
  {
   "metadata": {
    "ExecuteTime": {
     "end_time": "2025-01-13T07:50:31.365819Z",
     "start_time": "2025-01-13T07:50:31.362168Z"
    }
   },
   "cell_type": "code",
   "source": [
    "unique_drugs = drug_response_df['pharmaceutical_therapy_drug_name'].nunique()\n",
    "# print(unique_drugs.shape)\n",
    "print(\"\\nUnique Drug Names:\\n\", unique_drugs)"
   ],
   "id": "cdea8f0be658e6fe",
   "outputs": [
    {
     "name": "stdout",
     "output_type": "stream",
     "text": [
      "\n",
      "Unique Drug Names:\n",
      " 90\n"
     ]
    }
   ],
   "execution_count": 52
  },
  {
   "metadata": {
    "ExecuteTime": {
     "end_time": "2025-01-13T07:50:38.219431Z",
     "start_time": "2025-01-13T07:50:38.215610Z"
    }
   },
   "cell_type": "code",
   "source": [
    "pharmaceutical_therapy_type = drug_response_df['pharmaceutical_therapy_type'].unique()\n",
    "print(pharmaceutical_therapy_type.shape)\n",
    "print(\"\\nUnique pharmaceutical therapy type Names:\\n\", pharmaceutical_therapy_type)"
   ],
   "id": "6332ae93b2dd2f4",
   "outputs": [
    {
     "name": "stdout",
     "output_type": "stream",
     "text": [
      "(7,)\n",
      "\n",
      "Unique pharmaceutical therapy type Names:\n",
      " ['Chemotherapy' 'Targeted Molecular therapy' 'Hormone Therapy'\n",
      " 'Other, specify in notes' '[Not Available]' 'Immunotherapy' 'Ancillary']\n"
     ]
    }
   ],
   "execution_count": 54
  },
  {
   "metadata": {},
   "cell_type": "markdown",
   "source": "## LGG Clinical Data",
   "id": "37d85b239fd8c5d3"
  },
  {
   "metadata": {
    "ExecuteTime": {
     "end_time": "2025-01-13T07:26:44.662444Z",
     "start_time": "2025-01-13T07:26:44.658722Z"
    }
   },
   "cell_type": "code",
   "source": "file_path = \"raw_data/extracted_clinical_patient_data/f3a1bc62-9552-4553-b318-7d9c21d21ce7/nationwidechildrens.org_clinical_patient_lgg.txt\"",
   "id": "fc9978212ad47a1b",
   "outputs": [],
   "execution_count": 23
  },
  {
   "metadata": {
    "ExecuteTime": {
     "end_time": "2025-01-13T07:26:45.442267Z",
     "start_time": "2025-01-13T07:26:45.354512Z"
    }
   },
   "cell_type": "code",
   "source": "df = pd.read_csv(file_path, sep='\\t')",
   "id": "45f5fce1a8551ee6",
   "outputs": [],
   "execution_count": 24
  },
  {
   "metadata": {
    "ExecuteTime": {
     "end_time": "2025-01-13T07:27:10.358755Z",
     "start_time": "2025-01-13T07:27:10.354842Z"
    }
   },
   "cell_type": "code",
   "source": "print(f\"df shape{df1.shape} \")",
   "id": "3c536eecc607d9f2",
   "outputs": [
    {
     "name": "stdout",
     "output_type": "stream",
     "text": [
      "df shape(1507, 28) \n"
     ]
    }
   ],
   "execution_count": 25
  },
  {
   "metadata": {
    "ExecuteTime": {
     "end_time": "2025-01-13T08:38:48.946566Z",
     "start_time": "2025-01-13T08:38:48.928427Z"
    }
   },
   "cell_type": "code",
   "source": "df.to_csv('raw_data/extracted_clinical_patient_data/lgg_patient_clinical_df.csv', index=False)",
   "id": "2b9c83568ed740b7",
   "outputs": [],
   "execution_count": 59
  },
  {
   "metadata": {
    "ExecuteTime": {
     "end_time": "2025-01-13T08:39:16.124734Z",
     "start_time": "2025-01-13T08:39:16.100569Z"
    }
   },
   "cell_type": "code",
   "source": [
    "patient_clinical_df = pd.read_csv('raw_data/extracted_clinical_patient_data/lgg_patient_clinical_df.csv')\n",
    "patient_clinical_df.shape"
   ],
   "id": "48d55097d5701f8a",
   "outputs": [
    {
     "data": {
      "text/plain": [
       "(517, 69)"
      ]
     },
     "execution_count": 62,
     "metadata": {},
     "output_type": "execute_result"
    }
   ],
   "execution_count": 62
  },
  {
   "metadata": {
    "ExecuteTime": {
     "end_time": "2025-01-13T07:50:53.368565Z",
     "start_time": "2025-01-13T07:50:53.364006Z"
    }
   },
   "cell_type": "code",
   "source": [
    "unique_patients = patient_clinical_df['bcr_patient_uuid'].nunique()\n",
    "print(f\"Number of unique patients (by UUID): {unique_patients}\")"
   ],
   "id": "e51c6ff941375dbb",
   "outputs": [
    {
     "name": "stdout",
     "output_type": "stream",
     "text": [
      "Number of unique patients (by UUID): 515\n"
     ]
    }
   ],
   "execution_count": 56
  },
  {
   "metadata": {
    "ExecuteTime": {
     "end_time": "2025-01-13T08:39:39.377780Z",
     "start_time": "2025-01-13T08:39:39.372841Z"
    }
   },
   "cell_type": "code",
   "source": [
    "drug_response_df_set = set(drug_response_df['bcr_patient_uuid'].unique())\n",
    "patient_clinical_df_set = set(patient_clinical_df['bcr_patient_uuid'].unique())\n",
    "\n",
    "common_patients = drug_response_df_set.intersection(patient_clinical_df_set)\n",
    "\n",
    "num_common_patients = len(common_patients)\n",
    "\n",
    "print(f\"Number of patients in common: {num_common_patients}\")"
   ],
   "id": "112e32295c0f4ec1",
   "outputs": [
    {
     "name": "stdout",
     "output_type": "stream",
     "text": [
      "Number of patients in common: 285\n"
     ]
    }
   ],
   "execution_count": 65
  },
  {
   "metadata": {
    "ExecuteTime": {
     "end_time": "2025-01-13T08:39:42.565321Z",
     "start_time": "2025-01-13T08:39:42.532138Z"
    }
   },
   "cell_type": "code",
   "source": [
    "merge_key = 'bcr_patient_uuid'\n",
    "\n",
    "merged_df = pd.merge(drug_response_df, patient_clinical_df, on=merge_key, how='inner')\n",
    "print(\"\\nMerged Data Info:\")\n",
    "print(merged_df.info())"
   ],
   "id": "50767856594f93f0",
   "outputs": [
    {
     "name": "stdout",
     "output_type": "stream",
     "text": [
      "\n",
      "Merged Data Info:\n",
      "<class 'pandas.core.frame.DataFrame'>\n",
      "RangeIndex: 695 entries, 0 to 694\n",
      "Data columns (total 96 columns):\n",
      " #   Column                                Non-Null Count  Dtype \n",
      "---  ------                                --------------  ----- \n",
      " 0   bcr_patient_uuid                      695 non-null    object\n",
      " 1   bcr_patient_barcode_x                 695 non-null    object\n",
      " 2   bcr_drug_barcode                      695 non-null    object\n",
      " 3   bcr_drug_uuid                         695 non-null    object\n",
      " 4   form_completion_date_x                695 non-null    object\n",
      " 5   pharmaceutical_therapy_drug_name      695 non-null    object\n",
      " 6   clinical_trial_drug_classification    695 non-null    object\n",
      " 7   pharmaceutical_therapy_type           695 non-null    object\n",
      " 8   pharmaceutical_tx_started_days_to     695 non-null    object\n",
      " 9   pharmaceutical_tx_ongoing_indicator   695 non-null    object\n",
      " 10  pharmaceutical_tx_ended_days_to       695 non-null    object\n",
      " 11  treatment_best_response               695 non-null    object\n",
      " 12  days_to_stem_cell_transplantation     695 non-null    object\n",
      " 13  pharm_regimen                         695 non-null    object\n",
      " 14  pharm_regimen_other                   695 non-null    object\n",
      " 15  pharma_adjuvant_cycles_count          695 non-null    object\n",
      " 16  pharma_type_other                     695 non-null    object\n",
      " 17  pharmaceutical_tx_dose_units          695 non-null    object\n",
      " 18  pharmaceutical_tx_total_dose_units    695 non-null    object\n",
      " 19  prescribed_dose                       695 non-null    object\n",
      " 20  regimen_number                        695 non-null    object\n",
      " 21  route_of_administration               695 non-null    object\n",
      " 22  stem_cell_transplantation             695 non-null    object\n",
      " 23  stem_cell_transplantation_type        695 non-null    object\n",
      " 24  therapy_regimen                       695 non-null    object\n",
      " 25  therapy_regimen_other                 695 non-null    object\n",
      " 26  total_dose                            695 non-null    object\n",
      " 27  tx_on_clinical_trial                  695 non-null    object\n",
      " 28  bcr_patient_barcode_y                 695 non-null    object\n",
      " 29  form_completion_date_y                695 non-null    object\n",
      " 30  histologic_diagnosis                  695 non-null    object\n",
      " 31  tumor_grade                           695 non-null    object\n",
      " 32  laterality                            695 non-null    object\n",
      " 33  tumor_site                            695 non-null    object\n",
      " 34  supratentorial_localization           695 non-null    object\n",
      " 35  prospective_collection                695 non-null    object\n",
      " 36  retrospective_collection              695 non-null    object\n",
      " 37  gender                                695 non-null    object\n",
      " 38  birth_days_to                         695 non-null    object\n",
      " 39  race                                  695 non-null    object\n",
      " 40  ethnicity                             695 non-null    object\n",
      " 41  history_other_malignancy              695 non-null    object\n",
      " 42  history_neoadjuvant_treatment         695 non-null    object\n",
      " 43  initial_pathologic_dx_year            695 non-null    object\n",
      " 44  history_ionizing_rt_to_head           695 non-null    object\n",
      " 45  history_seizures                      695 non-null    object\n",
      " 46  history_headaches                     695 non-null    object\n",
      " 47  symp_changes_mental_status            695 non-null    object\n",
      " 48  symp_changes_visual                   695 non-null    object\n",
      " 49  symp_changes_sensory                  695 non-null    object\n",
      " 50  symp_changes_motor_movement           695 non-null    object\n",
      " 51  related_symptom_first_present         695 non-null    object\n",
      " 52  first_symptom_longest_duration        695 non-null    object\n",
      " 53  history_asthma                        695 non-null    object\n",
      " 54  history_eczema                        695 non-null    object\n",
      " 55  histor_hay_fever                      695 non-null    object\n",
      " 56  history_dust_mold_allergy             695 non-null    object\n",
      " 57  asthma_eczema_allergy_first_dx        695 non-null    object\n",
      " 58  allergy_food_dx_indicator             695 non-null    object\n",
      " 59  allergy_food_dx_type                  695 non-null    object\n",
      " 60  allergy_food_dx_age                   695 non-null    object\n",
      " 61  allergy_animals_insects_dx_indicator  695 non-null    object\n",
      " 62  allergy_animals_insects_dx_type       695 non-null    object\n",
      " 63  allergy_animals_insects_dx_age        695 non-null    object\n",
      " 64  history_neoadjuvant_steroid_tx        695 non-null    object\n",
      " 65  history_neoadjuvant_medication        695 non-null    object\n",
      " 66  vital_status                          695 non-null    object\n",
      " 67  last_contact_days_to                  695 non-null    object\n",
      " 68  death_days_to                         695 non-null    object\n",
      " 69  tumor_status                          695 non-null    object\n",
      " 70  family_history_cancer_indicator       695 non-null    object\n",
      " 71  family_history_brain_tumor            695 non-null    object\n",
      " 72  idh1_mutation_test_indicator          695 non-null    object\n",
      " 73  idh1_mutation_test_method             695 non-null    object\n",
      " 74  idh1_mutation_found                   695 non-null    object\n",
      " 75  inherited_genetic_syndrome_indicator  695 non-null    object\n",
      " 76  inherited_genetic_syndrome_specified  695 non-null    object\n",
      " 77  karnofsky_score                       695 non-null    object\n",
      " 78  ecog_score                            695 non-null    object\n",
      " 79  performance_status_timing             695 non-null    object\n",
      " 80  performance_status_days_to            695 non-null    object\n",
      " 81  radiation_treatment_adjuvant          695 non-null    object\n",
      " 82  pharmaceutical_tx_adjuvant            695 non-null    object\n",
      " 83  treatment_outcome_first_course        695 non-null    object\n",
      " 84  new_tumor_event_dx_indicator          695 non-null    object\n",
      " 85  age_at_initial_pathologic_diagnosis   695 non-null    object\n",
      " 86  days_to_initial_pathologic_diagnosis  695 non-null    object\n",
      " 87  disease_code                          695 non-null    object\n",
      " 88  icd_10                                695 non-null    object\n",
      " 89  icd_o_3_histology                     695 non-null    object\n",
      " 90  icd_o_3_site                          695 non-null    object\n",
      " 91  informed_consent_verified             695 non-null    object\n",
      " 92  patient_id                            695 non-null    object\n",
      " 93  project_code                          695 non-null    object\n",
      " 94  tissue_source_site                    695 non-null    object\n",
      " 95  tumor_tissue_site                     695 non-null    object\n",
      "dtypes: object(96)\n",
      "memory usage: 521.4+ KB\n",
      "None\n"
     ]
    }
   ],
   "execution_count": 66
  },
  {
   "metadata": {
    "ExecuteTime": {
     "end_time": "2025-01-13T08:42:03.120588Z",
     "start_time": "2025-01-13T08:42:03.089978Z"
    }
   },
   "cell_type": "code",
   "source": "merged_df.to_csv('raw_data/lgg_merged_drug_clinical.csv', index=False)",
   "id": "ff81db9b2f1902c",
   "outputs": [],
   "execution_count": 67
  }
 ],
 "metadata": {
  "kernelspec": {
   "display_name": "Python 3",
   "language": "python",
   "name": "python3"
  },
  "language_info": {
   "codemirror_mode": {
    "name": "ipython",
    "version": 2
   },
   "file_extension": ".py",
   "mimetype": "text/x-python",
   "name": "python",
   "nbconvert_exporter": "python",
   "pygments_lexer": "ipython2",
   "version": "2.7.6"
  }
 },
 "nbformat": 4,
 "nbformat_minor": 5
}
